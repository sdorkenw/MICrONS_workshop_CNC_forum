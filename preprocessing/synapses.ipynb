{
 "cells": [
  {
   "cell_type": "code",
   "execution_count": null,
   "id": "5817ba56-02f5-447c-afae-d25df88ffe85",
   "metadata": {},
   "outputs": [],
   "source": [
    "!pip install caveclient"
   ]
  },
  {
   "cell_type": "code",
   "execution_count": null,
   "id": "4a6cd12e-8b5d-4f2d-a863-ea6eb8af6f7c",
   "metadata": {},
   "outputs": [],
   "source": [
    "import pandas as pd\n",
    "import numpy as np\n",
    "import tqdm\n",
    "\n",
    "import caveclient\n",
    "\n",
    "import os\n",
    "\n",
    "REPO_DIR = f\"{os.path.abspath('')}/../\""
   ]
  },
  {
   "cell_type": "markdown",
   "id": "09c2c8de-1906-40ce-b280-fa9a6f07cac2",
   "metadata": {},
   "source": [
    "## Instantiate the CAVE client"
   ]
  },
  {
   "cell_type": "code",
   "execution_count": null,
   "id": "9925a2cf-277a-4d56-b1e7-f6735f7b2cc7",
   "metadata": {},
   "outputs": [],
   "source": [
    "my_token = None"
   ]
  },
  {
   "cell_type": "code",
   "execution_count": null,
   "id": "fc66a825-1a9e-4ca6-8f0d-b4bb3ec5030d",
   "metadata": {},
   "outputs": [],
   "source": [
    "client = caveclient.CAVEclient(\"minnie65_phase3_v1\", auth_token=my_token)"
   ]
  },
  {
   "cell_type": "code",
   "execution_count": null,
   "id": "fbf27714-1759-40f9-83ff-5579f77fe677",
   "metadata": {},
   "outputs": [],
   "source": [
    "mat_version = 1293"
   ]
  },
  {
   "cell_type": "markdown",
   "id": "be66e968-ba34-47b6-bc47-75d132cb6083",
   "metadata": {},
   "source": [
    "## Load proofreading and region data"
   ]
  },
  {
   "cell_type": "code",
   "execution_count": null,
   "id": "b0d1cec9-333d-4045-807b-ffc569c63b59",
   "metadata": {},
   "outputs": [],
   "source": [
    "proof_df = client.materialize.query_table(\"proofreading_status_and_strategy\", materialization_version=mat_version)\n",
    "proof_df = proof_df[proof_df[\"strategy_axon\"] != 'none'].reset_index(drop=True)\n",
    "\n",
    "proof_df[\"strategy_axon\"].value_counts()"
   ]
  },
  {
   "cell_type": "code",
   "execution_count": null,
   "id": "9f365bea-6fae-4f17-a109-c884db3cd37f",
   "metadata": {},
   "outputs": [],
   "source": [
    "region_df = client.materialize.query_table(\"nucleus_functional_area_assignment\", materialization_version=mat_version)\n",
    "\n",
    "region_df[\"tag\"].value_counts()"
   ]
  },
  {
   "cell_type": "code",
   "execution_count": null,
   "id": "69f280a2-2800-4540-87e1-24b493c80413",
   "metadata": {},
   "outputs": [],
   "source": [
    "proof_root_ids = np.array(proof_df[\"pt_root_id\"])\n",
    "v1_root_ids = np.array(region_df[region_df[\"tag\"] == \"V1\"][\"pt_root_id\"])\n",
    "\n",
    "proof_v1_root_ids = proof_root_ids[np.isin(proof_root_ids, v1_root_ids)]"
   ]
  },
  {
   "cell_type": "markdown",
   "id": "a3784ce6-738d-465e-a4e9-08ab2e7e0b26",
   "metadata": {},
   "source": [
    "## Query synapses"
   ]
  },
  {
   "cell_type": "code",
   "execution_count": null,
   "id": "c49a55e7-1235-4f42-9e6e-b6b5ab841adc",
   "metadata": {},
   "outputs": [],
   "source": [
    "pre_syn_dfs = []\n",
    "for id_block in tqdm.tqdm(np.array_split(proof_v1_root_ids, len(proof_v1_root_ids) // 50)):\n",
    "    pre_syn_dfs.append(client.materialize.synapse_query(pre_ids=id_block, materialization_version=mat_version, split_positions=True))\n",
    "\n",
    "post_syn_dfs = []\n",
    "for id_block in tqdm.tqdm(np.array_split(proof_v1_root_ids, len(proof_v1_root_ids) // 50)):\n",
    "    post_syn_dfs.append(client.materialize.synapse_query(post_ids=id_block, materialization_version=mat_version, split_positions=True))\n",
    "\n",
    "\n",
    "syn_df = pd.concat(pre_syn_dfs + post_syn_dfs).drop_duplicates(\"id\", keep=\"first\").reset_index(drop=True)"
   ]
  },
  {
   "cell_type": "markdown",
   "id": "16251693-9ebc-48b2-9e37-a72097290eda",
   "metadata": {},
   "source": [
    "## Reduce and store"
   ]
  },
  {
   "cell_type": "code",
   "execution_count": null,
   "id": "b1b914bf-0ec0-4aa6-9d06-26a793bd4bc2",
   "metadata": {},
   "outputs": [],
   "source": [
    "syn_df = syn_df[[\"id\", \"ctr_pt_position_x\", \"ctr_pt_position_y\", \"ctr_pt_position_z\", \"pre_pt_root_id\", \"post_pt_root_id\", \"size\"]].copy()\n",
    "syn_df = syn_df.astype({\"id\": np.int32, \"ctr_pt_position_x\": np.int32, \"ctr_pt_position_y\": np.int32, \"ctr_pt_position_z\": np.int32, \"size\": np.int32})\n",
    "\n",
    "syn_df = syn_df.sort_values([\"post_pt_root_id\", \"pre_pt_root_id\"]).reset_index(drop=True)"
   ]
  },
  {
   "cell_type": "code",
   "execution_count": null,
   "id": "de777fe0-a5a1-4e83-9f1f-603d7810d98c",
   "metadata": {},
   "outputs": [],
   "source": [
    "syn_df.to_feather(f\"{REPO_DIR}/data/synapses_proofread_V1_neurons_{mat_version}.feather\", compression=\"zstd\", compression_level=9)"
   ]
  }
 ],
 "metadata": {
  "kernelspec": {
   "display_name": "Python 3 (ipykernel)",
   "language": "python",
   "name": "python3"
  },
  "language_info": {
   "codemirror_mode": {
    "name": "ipython",
    "version": 3
   },
   "file_extension": ".py",
   "mimetype": "text/x-python",
   "name": "python",
   "nbconvert_exporter": "python",
   "pygments_lexer": "ipython3",
   "version": "3.11.9"
  }
 },
 "nbformat": 4,
 "nbformat_minor": 5
}
