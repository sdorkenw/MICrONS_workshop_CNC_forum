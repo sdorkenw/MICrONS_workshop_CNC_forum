{
 "cells": [
  {
   "cell_type": "code",
   "execution_count": null,
   "id": "8418600e-8021-45e0-992b-0088ab72cda8",
   "metadata": {},
   "outputs": [],
   "source": [
    "!pip install caveclient"
   ]
  },
  {
   "cell_type": "code",
   "execution_count": null,
   "id": "8e1b79d4-0fb8-413a-b792-239f478b4400",
   "metadata": {},
   "outputs": [],
   "source": [
    "import pandas as pd\n",
    "import numpy as np\n",
    "import tqdm\n",
    "\n",
    "import caveclient\n",
    "\n",
    "import os\n",
    "\n",
    "REPO_DIR = f\"{os.path.abspath('')}/../\""
   ]
  },
  {
   "cell_type": "markdown",
   "id": "f4211caa-b6a2-408b-a97f-d5c57999098a",
   "metadata": {},
   "source": [
    "## Instantiate CAVE client"
   ]
  },
  {
   "cell_type": "code",
   "execution_count": null,
   "id": "37a848fb-6868-4caa-9bb5-c3cf6784bf2e",
   "metadata": {},
   "outputs": [],
   "source": [
    "my_token = None"
   ]
  },
  {
   "cell_type": "code",
   "execution_count": null,
   "id": "6adb1e5e-49e9-460b-b867-d8ac8fda39e1",
   "metadata": {},
   "outputs": [],
   "source": [
    "client = caveclient.CAVEclient(\"minnie65_phase3_v1\", auth_token=my_token)"
   ]
  },
  {
   "cell_type": "code",
   "execution_count": null,
   "id": "dd717966-a9d1-4109-a830-6b36c8c05b60",
   "metadata": {},
   "outputs": [],
   "source": [
    "mat_version = 1293"
   ]
  },
  {
   "cell_type": "markdown",
   "id": "3d9eb5df-7d51-4ad9-9af6-43e6c273bd36",
   "metadata": {},
   "source": [
    "## Load annotations"
   ]
  },
  {
   "cell_type": "code",
   "execution_count": null,
   "id": "dfaa18a6-f9d0-4668-94f7-d9e315307ccb",
   "metadata": {},
   "outputs": [],
   "source": [
    "proof_df = client.materialize.query_table(\"proofreading_status_and_strategy\", materialization_version=mat_version)\n",
    "proof_df = proof_df[proof_df[\"strategy_axon\"] != 'none'].reset_index(drop=True)\n",
    "proof_df = proof_df[[\"pt_root_id\", \"strategy_axon\"]].rename(columns={\"strategy_axon\": \"proofreading_strategy\"})\n",
    "proof_df.drop_duplicates(\"pt_root_id\", keep=\"first\", inplace=True)\n",
    "\n",
    "proof_df[\"proofreading_strategy\"].value_counts()"
   ]
  },
  {
   "cell_type": "code",
   "execution_count": null,
   "id": "a1df9a4b-5ec2-442f-87ea-80c4ae29f85b",
   "metadata": {},
   "outputs": [],
   "source": [
    "region_df = client.materialize.query_table(\"nucleus_functional_area_assignment\", materialization_version=mat_version)\n",
    "region_df = region_df[[\"pt_root_id\", \"tag\"]].rename(columns={\"tag\": \"region\"})\n",
    "region_df.drop_duplicates(\"pt_root_id\", keep=\"first\", inplace=True)\n",
    "\n",
    "region_df[\"region\"].value_counts()"
   ]
  },
  {
   "cell_type": "code",
   "execution_count": null,
   "id": "909e5e01-326f-473b-98b5-3d38fd3d391c",
   "metadata": {},
   "outputs": [],
   "source": [
    "auto_cell_type_df = client.materialize.query_table(\"aibs_metamodel_celltypes_v661\", materialization_version=mat_version, split_positions=True, desired_resolution=[1, 1, 1])\n",
    "auto_cell_type_df[\"classification_system\"].replace({\"excitatory_neuron\": \"E\", \"inhibitory_neuron\": \"I\", \"nonneuron\": \"NONNEURON\"}, inplace=True)\n",
    "auto_cell_type_df = auto_cell_type_df[[\"pt_position_x\", \"pt_position_y\", \"pt_position_z\", \"pt_root_id\", \"volume\", \"classification_system\", \"cell_type\"]]\n",
    "auto_cell_type_df = auto_cell_type_df.rename(columns={\"cell_type\": \"cell_type_auto\", \"classification_system\": \"coarse_cell_type_auto\"})\n",
    "auto_cell_type_df.drop_duplicates(\"pt_root_id\", keep=\"first\", inplace=True)\n",
    "\n",
    "auto_cell_type_df[\"coarse_cell_type_auto\"].value_counts(), auto_cell_type_df[\"cell_type_auto\"].value_counts()"
   ]
  },
  {
   "cell_type": "code",
   "execution_count": null,
   "id": "41a39922-8988-4194-a4ee-b767821e1761",
   "metadata": {},
   "outputs": [],
   "source": [
    "manual_cell_type_df = client.materialize.query_table(\"allen_v1_column_types_slanted_ref\", materialization_version=mat_version, split_positions=True, desired_resolution=[1, 1, 1])\n",
    "manual_cell_type_df = manual_cell_type_df[[\"pt_root_id\", \"classification_system\", \"cell_type\"]]\n",
    "manual_cell_type_df[\"classification_system\"].replace({\"aibs_coarse_excitatory\": \"E\", \"aibs_coarse_inhibitory\": \"I\", \"aibs_coarse_unclear\": \"UNCLEAR\"}, inplace=True)\n",
    "manual_cell_type_df.rename(columns={\"cell_type\": \"cell_type_manual\", \"classification_system\": \"coarse_cell_type_manual\"}, inplace=True)\n",
    "manual_cell_type_df.drop_duplicates(\"pt_root_id\", keep=\"first\", inplace=True)\n",
    "\n",
    "manual_cell_type_df[\"coarse_cell_type_manual\"].value_counts(), manual_cell_type_df[\"cell_type_manual\"].value_counts()"
   ]
  },
  {
   "cell_type": "code",
   "execution_count": null,
   "id": "1491a758-821c-4326-b55d-324d60cdfbb5",
   "metadata": {},
   "outputs": [],
   "source": [
    "cell_df = pd.merge(auto_cell_type_df, manual_cell_type_df, on=\"pt_root_id\", how=\"left\").fillna(\"\")\n",
    "cell_df = pd.merge(cell_df, region_df, on=\"pt_root_id\", how=\"left\").fillna(\"\")\n",
    "cell_df = pd.merge(cell_df, proof_df, on=\"pt_root_id\", how=\"left\").fillna(\"\")"
   ]
  },
  {
   "cell_type": "code",
   "execution_count": null,
   "id": "326dbcd7-472c-4349-bdd5-c95a9bc89890",
   "metadata": {},
   "outputs": [],
   "source": [
    "cell_df.to_feather(f\"{REPO_DIR}/data/cell_info_{mat_version}.feather\", compression=\"zstd\", compression_level=9)"
   ]
  },
  {
   "cell_type": "code",
   "execution_count": null,
   "id": "53577b32-f486-4253-958e-b8094aae4fd1",
   "metadata": {},
   "outputs": [],
   "source": []
  }
 ],
 "metadata": {
  "kernelspec": {
   "display_name": "Python 3 (ipykernel)",
   "language": "python",
   "name": "python3"
  },
  "language_info": {
   "codemirror_mode": {
    "name": "ipython",
    "version": 3
   },
   "file_extension": ".py",
   "mimetype": "text/x-python",
   "name": "python",
   "nbconvert_exporter": "python",
   "pygments_lexer": "ipython3",
   "version": "3.11.9"
  }
 },
 "nbformat": 4,
 "nbformat_minor": 5
}
