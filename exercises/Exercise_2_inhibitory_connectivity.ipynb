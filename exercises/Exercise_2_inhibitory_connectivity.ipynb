{
 "cells": [
  {
   "cell_type": "markdown",
   "id": "8534d655-f4de-4f70-af47-531a655051fd",
   "metadata": {},
   "source": [
    "<div style=\"background: #DFF0D8; border-radius: 3px; padding: 10px;\">\n",
    "\n",
    "## Exercise 2: Inhibitory connectivity \n",
    "    \n",
    "In the data walkthrough, we visualized the connectivity of excitatory neurons with each other. Here, we will extend this analysis to include inhibitory neurons. \n",
    "\n",
    "    \n",
    "</div>"
   ]
  },
  {
   "cell_type": "code",
   "execution_count": null,
   "id": "95cb908f-22c5-4c02-adb2-0785493251dc",
   "metadata": {},
   "outputs": [],
   "source": [
    "mat_version = 1300\n",
    "\n",
    "# Paths to compiled data for this workshop\n",
    "syn_data_url = f\"https://github.com/sdorkenw/MICrONS_workshop_CNC_forum/raw/refs/heads/main/data/synapses_proofread_V1_neurons_{mat_version}.feather\"\n",
    "cell_data_url = f\"https://github.com/sdorkenw/MICrONS_workshop_CNC_forum/raw/refs/heads/main/data/cell_info_{mat_version}.feather\" "
   ]
  },
  {
   "cell_type": "code",
   "execution_count": null,
   "id": "1d67654e-c062-44ab-a62e-6b723288d3c3",
   "metadata": {},
   "outputs": [],
   "source": [
    "import pandas as pd\n",
    "import numpy as np\n",
    "from matplotlib import pyplot as plt\n",
    "import matplotlib\n",
    "import seaborn as sns"
   ]
  },
  {
   "cell_type": "markdown",
   "id": "d3427aa8-3ab1-42c6-a640-f48773ff2b45",
   "metadata": {},
   "source": [
    "<div style=\"background: #DFF0D8; border-radius: 3px; padding: 10px;\">\n",
    "\n",
    "### Task 2.1\n",
    "Reference the data walkthrough, and copy over the local functions  `filter_synapse_table` and `sort_matrix_by_types`, as they will be critical for this exercise.\n",
    "    \n",
    "</div>"
   ]
  },
  {
   "cell_type": "code",
   "execution_count": null,
   "id": "37b39ef5-bcc8-4665-8376-2bd0c5c4f12d",
   "metadata": {},
   "outputs": [],
   "source": [
    "\n",
    "def filter_synapse_table():\n",
    "\n",
    "\n",
    "def sort_matrix_by_types():\n",
    "    "
   ]
  },
  {
   "cell_type": "markdown",
   "id": "18ba3660-524c-481b-a679-637787b33a21",
   "metadata": {},
   "source": [
    "<div style=\"background: #DFF0D8; border-radius: 3px; padding: 10px;\">\n",
    "\n",
    "### Task 2.2\n",
    "Load the <b>cell_df</b> and the <b>syn_df</b> dataframes. Using `filter_synapse_table`, filter the synapse table to only contain proofread <b>Inhibitory and Excitatory</b> cells for which we have cell type information.\n",
    "\n",
    "Plot the square matrix of connectivity, sorted by cell type with `sort_matrix_by_type`. Do you see a difference in connectivity structure among the cell types?\n",
    "\n",
    "Tip: This is the equivalent of what you did for only the <b>Excitatory</b> cells in the walkthrough.\n",
    "    \n",
    "</div>"
   ]
  },
  {
   "cell_type": "code",
   "execution_count": null,
   "id": "e79f5894-afad-4c57-a66a-f251dc7f9043",
   "metadata": {},
   "outputs": [],
   "source": [
    "# Load cell_df\n",
    "cell_df = \n",
    "\n",
    "# Load syn_df\n",
    "syn_df = \n",
    "\n",
    "# Get the proofread root ids of the inhibitory cells\n",
    "proof_root_ids = \n"
   ]
  },
  {
   "cell_type": "code",
   "execution_count": null,
   "id": "6f11ce1b-a1e9-4845-8649-dded3f1d0441",
   "metadata": {},
   "outputs": [],
   "source": [
    "# Filter the synapse table to include proofread and cell-types cells\n",
    "proof_proof_syn_table = \n",
    "\n",
    "# Pivot synapse table into a matrix\n",
    "syn_mat = \n",
    "\n",
    "# Sort matrix by cell type\n",
    "\n",
    "# Plot binarized connectivity between all proofread cells, with cell type labeled"
   ]
  },
  {
   "cell_type": "markdown",
   "id": "773ae101-0139-4bae-bf63-fd7d3affafd9",
   "metadata": {},
   "source": [
    "<div style=\"background: #DFF0D8; border-radius: 3px; padding: 10px;\">\n",
    "\n",
    "### 2.3 Extending the connectivity matrix\n",
    "The automated cell type predictions allow us to extend the synapse matrix beyond proofread cells. For inhibitory cells, their output connectivity can differ subtantially between cell types. \n",
    "\n",
    "Note now that the synapse matrix will be rectangular because we have many more postsynaptic targets than presynaptic neurons.\n",
    "\n",
    "To do this, change the following from Task 2.2 when using `filter_synapse_table`.\n",
    "1. select only the proofread <b> inhibitory neurons</b> as your pre_ids\n",
    "2. change the post_root_ids to any cell in the `cell_df`\n",
    "3. modify the plot to sort column and rows independently while keeping same colormap\n",
    "    \n",
    "</div>"
   ]
  },
  {
   "cell_type": "code",
   "execution_count": null,
   "id": "f937f19e-2bad-4080-97b9-37d329a4f668",
   "metadata": {},
   "outputs": [],
   "source": [
    "# Get the proofread root ids of the inhibitory cells\n",
    "proof_I_root_ids = \n",
    "\n",
    "# Filter the synapse table \n",
    "proof_syn_table = \n",
    "\n",
    "# Pivot synapse table into a matrix\n",
    "syn_mat_rect = \n",
    "\n",
    "# Sort matrix by cell type\n",
    "\n",
    "# Plot binarized connectivity from proofread cells to all outputs"
   ]
  }
 ],
 "metadata": {
  "kernelspec": {
   "display_name": "microns2025",
   "language": "python",
   "name": "microns2025"
  },
  "language_info": {
   "codemirror_mode": {
    "name": "ipython",
    "version": 3
   },
   "file_extension": ".py",
   "mimetype": "text/x-python",
   "name": "python",
   "nbconvert_exporter": "python",
   "pygments_lexer": "ipython3",
   "version": "3.11.11"
  }
 },
 "nbformat": 4,
 "nbformat_minor": 5
}
