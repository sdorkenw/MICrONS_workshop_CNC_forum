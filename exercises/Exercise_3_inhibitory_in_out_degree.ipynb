{
 "cells": [
  {
   "cell_type": "markdown",
   "id": "c258816e-2030-48c0-bd16-1b336c514c4c",
   "metadata": {},
   "source": [
    "<div style=\"background: #DFF0D8; border-radius: 3px; padding: 10px;\">\n",
    "\n",
    "## Exercise 3: In/out degree of inhbitory neurons\n",
    "    \n",
    "Because cortical inhibitory neuron's axons are relatively local they can be mostly contained with the mm scale dataset.  Therefore, after proofreading a large fraction of their output synaspes can be reconstructed.  Their dendrites are also contained within the volume and so their inputs are largely complete as well.  Therefore one simple question is whether the number of inputs a particular interneuron of a particular class is related to the number of outputs that cell sends locally.  \n",
    "\n",
    "This exercise is to ask that question of the dataset, by finding the total number of synaptic inputs and outputs from individual inhibitory neurons in the dataset, and make scatter plots of the number of inputs and outputs broken down by cell type. \n",
    "\n",
    "</div>"
   ]
  },
  {
   "cell_type": "code",
   "execution_count": null,
   "id": "06f098ba-2994-4fd9-8192-c2a3c6c86eae",
   "metadata": {},
   "outputs": [],
   "source": [
    "mat_version = 1300\n",
    "\n",
    "# Paths to compiled data for this workshop\n",
    "syn_data_url = f\"https://github.com/sdorkenw/MICrONS_workshop_CNC_forum/raw/refs/heads/main/data/synapses_proofread_V1_neurons_{mat_version}.feather\"\n",
    "cell_data_url = f\"https://github.com/sdorkenw/MICrONS_workshop_CNC_forum/raw/refs/heads/main/data/cell_info_{mat_version}.feather\" "
   ]
  },
  {
   "cell_type": "code",
   "execution_count": null,
   "id": "d72a7967-2b7f-4c8a-a855-de1eabd3eda5",
   "metadata": {},
   "outputs": [],
   "source": [
    "import pandas as pd\n",
    "import numpy as np\n",
    "from matplotlib import pyplot as plt\n",
    "import seaborn as sns"
   ]
  },
  {
   "cell_type": "markdown",
   "id": "23a0b20c-19c4-4816-9fd6-6b6324428cb3",
   "metadata": {},
   "source": [
    "<div style=\"background: #DFF0D8; border-radius: 3px; padding: 10px;\">\n",
    "\n",
    "### Task 3.1\n",
    "Reference the data walkthrough, and copy over the local function  `filter_synapse_table` as it will be critical for this exercise.\n",
    "    \n",
    "</div>"
   ]
  },
  {
   "cell_type": "code",
   "execution_count": null,
   "id": "dfa8cf6d-7cf9-4982-9df2-9d7334dc3a50",
   "metadata": {},
   "outputs": [],
   "source": [
    "\n",
    "def filter_synapse_table():\n",
    "\n",
    "    "
   ]
  },
  {
   "cell_type": "markdown",
   "id": "d7178df9-86b5-4b6d-b81e-17461ddb7bb5",
   "metadata": {},
   "source": [
    "<div style=\"background: #DFF0D8; border-radius: 3px; padding: 10px;\">\n",
    "\n",
    "### Task 3.2\n",
    "Load the <b>cell_df</b> and the <b>syn_df</b> dataframes. Using `filter_synapse_table`, filter the synapse table to only contain <b>ouputs from proofread inhibitory cells</b>.\n",
    "\n",
    "Then do the same to find the <b>inputs to those same neurons</b> in the dataset. \n",
    "\n",
    "How many cells, total inputs and total outputs are there onto and from proofreading inhibitory cells?\n",
    "\n",
    "\n",
    "    \n",
    "</div>"
   ]
  },
  {
   "cell_type": "code",
   "execution_count": null,
   "id": "39f88aab-106a-4ec5-8a10-31dcfd0e7d4a",
   "metadata": {},
   "outputs": [],
   "source": [
    "# Load cell_df\n",
    "cell_df = \n",
    "\n",
    "# Load syn_df\n",
    "syn_df = \n",
    "\n",
    "# Get the proofread root ids of the inhibitory cells\n",
    "proof_I_root_ids = "
   ]
  },
  {
   "cell_type": "code",
   "execution_count": null,
   "id": "86cadd32-a62e-4e74-a652-193cbaf8db32",
   "metadata": {},
   "outputs": [],
   "source": [
    "# Filter outputs of the inhibitory neurons\n",
    "inh_neuron_out = \n",
    "\n",
    "# Filter inputs to the inhibitory neurons\n",
    "inh_neuron_in = \n",
    "\n",
    "print(len(proof_I_root_ids), len(inh_neuron_out), len(inh_neuron_in))"
   ]
  },
  {
   "cell_type": "markdown",
   "id": "09a1ab4b-17fe-40cf-b93e-73e211127ebe",
   "metadata": {
    "tags": []
   },
   "source": [
    "<div style=\"background: #DFF0D8; border-radius: 3px; padding: 10px;\">\n",
    "\n",
    "### Task 3.3\n",
    "Using group-bys and merges, construct a dataframe that contains a `pt_root_id`, 'cell_type_auto` it's total inputs, total outputs and cell type. \n",
    "    \n",
    "Make a scatter plot of the number of inputs versus the number of outputs colored by cell type.  Do any cell types show a significant relationship? \n",
    "</div>"
   ]
  },
  {
   "cell_type": "code",
   "execution_count": null,
   "id": "ddff850c-9efc-42f4-bea0-7ee75eb4b3d3",
   "metadata": {
    "tags": []
   },
   "outputs": [],
   "source": [
    "# Groupby 'pre_pt_root_id'\n",
    "output_series = \n",
    "\n",
    "# Groupby 'post_pt_root_id'\n",
    "input_series = \n",
    "\n",
    "# Combine input and output series with cell type, on 'pt_root_id'"
   ]
  },
  {
   "cell_type": "code",
   "execution_count": null,
   "id": "ab86b632-8edc-4de1-b705-a6241cfc499e",
   "metadata": {
    "tags": []
   },
   "outputs": [],
   "source": [
    "# Plot scatter of output v inputs. Tip: include cell type as 'hue'"
   ]
  },
  {
   "cell_type": "code",
   "execution_count": null,
   "id": "8b96dc0b-f955-432b-b746-39ee952e05e7",
   "metadata": {},
   "outputs": [],
   "source": []
  }
 ],
 "metadata": {
  "kernelspec": {
   "display_name": "microns2025",
   "language": "python",
   "name": "microns2025"
  },
  "language_info": {
   "codemirror_mode": {
    "name": "ipython",
    "version": 3
   },
   "file_extension": ".py",
   "mimetype": "text/x-python",
   "name": "python",
   "nbconvert_exporter": "python",
   "pygments_lexer": "ipython3",
   "version": "3.11.11"
  }
 },
 "nbformat": 4,
 "nbformat_minor": 5
}
