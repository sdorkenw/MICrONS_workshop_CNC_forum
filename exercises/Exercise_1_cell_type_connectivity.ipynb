{
 "cells": [
  {
   "cell_type": "markdown",
   "id": "8534d655-f4de-4f70-af47-531a655051fd",
   "metadata": {},
   "source": [
    "<div style=\"background: #DFF0D8; border-radius: 3px; padding: 10px;\">\n",
    "\n",
    "## Exercise 1: Output connectivity\n",
    "    \n",
    "    \n",
    "<p>In the data walkthrough, we visualized the synapses of a single neuron, and also the connectivity between different cell types.\n",
    "\n",
    "<p>In this first exercise, we will apply the <b>cell types to label the output synapses of a single neuron </b>\n",
    "\n",
    "    \n",
    "</div>"
   ]
  },
  {
   "cell_type": "code",
   "execution_count": null,
   "id": "95cb908f-22c5-4c02-adb2-0785493251dc",
   "metadata": {},
   "outputs": [],
   "source": [
    "mat_version = 1300\n",
    "\n",
    "# Paths to compiled data for this workshop\n",
    "syn_data_url = f\"https://github.com/sdorkenw/MICrONS_workshop_CNC_forum/raw/refs/heads/main/data/synapses_proofread_V1_neurons_{mat_version}.feather\"\n",
    "cell_data_url = f\"https://github.com/sdorkenw/MICrONS_workshop_CNC_forum/raw/refs/heads/main/data/cell_info_{mat_version}.feather\" "
   ]
  },
  {
   "cell_type": "markdown",
   "id": "5eff76ba-8566-4ff1-9b60-6793b9605214",
   "metadata": {},
   "source": [
    "<div style=\"border-left: 3px solid #000; padding: 1px; padding-left: 10px; background: #F0FAFF; \">\n",
    "   \n",
    "<b> Install packages (if using Colab), import packages, and initialize CAVEclient\n",
    "\n",
    "Refer to the main tutorial for locating your CAVE token\n",
    "    \n",
    "</div>"
   ]
  },
  {
   "cell_type": "code",
   "execution_count": null,
   "id": "c94c9b26-837f-49d2-9958-753db3493646",
   "metadata": {},
   "outputs": [],
   "source": [
    "!pip install -q skeleton_plot\n",
    "!pip install -q caveclient "
   ]
  },
  {
   "cell_type": "code",
   "execution_count": null,
   "id": "1d67654e-c062-44ab-a62e-6b723288d3c3",
   "metadata": {},
   "outputs": [],
   "source": [
    "import caveclient\n",
    "import skeleton_plot as skelplot\n",
    "\n",
    "import pandas as pd\n",
    "import numpy as np\n",
    "from matplotlib import pyplot as plt\n",
    "import seaborn as sns"
   ]
  },
  {
   "cell_type": "code",
   "execution_count": null,
   "id": "ad636206-4d1c-421b-8bac-82e5226a6aba",
   "metadata": {},
   "outputs": [],
   "source": [
    "my_token = \"PASTE_TOKEN_HERE\"\n",
    "client = caveclient.CAVEclient(\"minnie65_public\", auth_token=my_token)"
   ]
  },
  {
   "cell_type": "markdown",
   "id": "a6853d87-cfe5-4083-b618-87d03b2f7937",
   "metadata": {},
   "source": [
    "<div style=\"background: #DFF0D8; border-radius: 3px; padding: 10px;\">\n",
    "\n",
    "### Task 1.1\n",
    "Reference the data walkthrough, and copy over the local functions  `plot_skeleton` and `filter_synapses`, as they will be critical for this exercise.\n",
    "    \n",
    "</div>"
   ]
  },
  {
   "cell_type": "code",
   "execution_count": null,
   "id": "3203a586-d2c7-47bb-971a-1f9008b675f7",
   "metadata": {},
   "outputs": [],
   "source": [
    "\n",
    "def plot_skeleton():\n",
    "\n",
    "\n",
    "def filter_synapse_table():   \n"
   ]
  },
  {
   "cell_type": "markdown",
   "id": "ff6ccd02-9ad4-4bbd-94e3-6843bb1ce987",
   "metadata": {},
   "source": [
    "<div style=\"background: #DFF0D8; border-radius: 3px; padding: 10px;\">\n",
    "\n",
    "### Task 1.2\n",
    "Load the <b>cell_df</b> dataframe, select one of the fully extended neurons, and plot the output using `plot_skeleton`.\n",
    "\n",
    "Try iterating through several cells to select examples with a) dense local axon, b) long-range axon, and c) synapses across different cortical layers\n",
    "    \n",
    "</div>"
   ]
  },
  {
   "cell_type": "code",
   "execution_count": null,
   "id": "29e8da96-0dd6-4b08-b8f5-fc7b5496c25b",
   "metadata": {},
   "outputs": [],
   "source": [
    "# Load cell_df\n",
    "cell_df = \n",
    "\n",
    "# Select fully extended cell\n",
    "\n",
    "# Plot Skeleton"
   ]
  },
  {
   "cell_type": "markdown",
   "id": "7117e122-89e9-4ff9-9ecb-0fe7a6999a35",
   "metadata": {},
   "source": [
    "<div style=\"background: #DFF0D8; border-radius: 3px; padding: 10px;\">\n",
    "\n",
    "### Task 1.3\n",
    "Collect the output synapses of your chosen cell (pre_root_ids=root_id), using the local function <b> filter_synapse_table </b> from the data walkthrough\n",
    "    \n",
    "</div>"
   ]
  },
  {
   "cell_type": "code",
   "execution_count": null,
   "id": "0757ebd1-2969-4885-8f68-27c525ce1607",
   "metadata": {},
   "outputs": [],
   "source": [
    "# Load syn_df\n",
    "syn_df = \n",
    "\n",
    "# Filter output synapses\n",
    "pre_syns = "
   ]
  },
  {
   "cell_type": "markdown",
   "id": "3ebeeb8b-d418-46b4-af41-694858bc8fd2",
   "metadata": {},
   "source": [
    "<div style=\"background: #DFF0D8; border-radius: 3px; padding: 10px;\">\n",
    "\n",
    "### Task 1.4\n",
    "Color the outgoing synapses by their target type. To do this:\n",
    "\n",
    "1. Merge your `pre_syn` dataframe to the `cell_df` table. Merge on `post_pt_root_id` and `pt_root_id`, respectively.\n",
    "2. Plot the synapses over the skeleton, using `ctr_pt_position_x` and `ctr_pt_position_y` as your x and y positions\n",
    "3. Use the automated cell type prediction to color synapses by excitatory / inhibitory postsynaptic identity (the `coarse_cell_type_auto` column in the cell type table can be used here).\n",
    "4. Use the automated cell type prediction to color synapses by <b>cell type</b> (the `cell_type_auto` column in the cell type table can be used here).  \n",
    "    \n",
    "Multiple publications reported a bias for inhibitory targets being overrepresented on the initial part of the axon and excitatory targets being dominant on the distal sections. Can you tell this bias for your neuron as well? \n",
    "    \n",
    "</div>"
   ]
  },
  {
   "cell_type": "code",
   "execution_count": null,
   "id": "efc0198e-c6f5-4b75-a191-da3bc49ad9c1",
   "metadata": {
    "tags": []
   },
   "outputs": [],
   "source": [
    "# Merge pre_syns to cell_df\n",
    "\n",
    "# Plot skeleton\n",
    "\n",
    "# Add synapses colored by coarse classification OR cell type\n",
    "# (suggested tip: use sns.scatterplot, with optional argument 'hue')"
   ]
  },
  {
   "cell_type": "markdown",
   "id": "34a3ba7f-9ad5-4dce-ade0-11302d9c2cf8",
   "metadata": {},
   "source": [
    "<div style=\"background: #DFF0D8; border-radius: 3px; padding: 10px;\">\n",
    "\n",
    "### Task 1.5\n",
    "Color the outgoing synapses by their <b> input type</b>. Use the automated cell type prediction to color synapses by excitatory / inhibitory presynaptic identity (the `coarse_cell_type_auto` column in the cell type table can be used here). \n",
    "    \n",
    "What do the results of this plot, compared with Task 1.4, tell you about the inferences you can make in this dataset? \n",
    "    \n",
    "</div>"
   ]
  },
  {
   "cell_type": "code",
   "execution_count": null,
   "id": "de5c30f6-6134-4cfc-bcf0-ea715b3140a1",
   "metadata": {
    "tags": []
   },
   "outputs": [],
   "source": [
    "# Filter for input synapses\n",
    "post_syns = \n",
    "\n",
    "# Merge post_syns to cell_df\n",
    "\n",
    "# Plot skeleton\n",
    "\n",
    "# Add synapses colored by coarse classification OR cell type\n",
    "# (suggested tip: use sns.scatterplot, with optional argument 'hue')"
   ]
  }
 ],
 "metadata": {
  "kernelspec": {
   "display_name": "Python 3 (ipykernel)",
   "language": "python",
   "name": "python3"
  },
  "language_info": {
   "codemirror_mode": {
    "name": "ipython",
    "version": 3
   },
   "file_extension": ".py",
   "mimetype": "text/x-python",
   "name": "python",
   "nbconvert_exporter": "python",
   "pygments_lexer": "ipython3",
   "version": "3.11.11"
  }
 },
 "nbformat": 4,
 "nbformat_minor": 5
}
