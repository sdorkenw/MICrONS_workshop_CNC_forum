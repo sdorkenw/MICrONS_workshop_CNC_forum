{
 "cells": [
  {
   "cell_type": "markdown",
   "id": "3242c400-4f90-4013-a2c7-c5d64e6d4d4f",
   "metadata": {},
   "source": [
    "# Programmatic access and analysis of the MICrONS dataset"
   ]
  },
  {
   "cell_type": "markdown",
   "id": "cee96ece-4ffc-4a4d-8e2f-15ae406c9dda",
   "metadata": {},
   "source": [
    "<div style=\"border-left: 3px solid #000; padding: 1px; padding-left: 10px; background: #F0FAFF; \">\n",
    "   \n",
    "<b> Electron Microscopy (EM) data enables morphological reconstruction of neurons and detection of their synaptic connectivity </b>. The <a href=https://www.microns-explorer.org/cortical-mm3>MICrONS dataset </a> is one of the largest datasets currently available spanning all layers of visual cortex. We will be using this dataset to query the connectivity between the excitatory neurons in the visual cortex. The exercises will cover the connectivity with inhibitory neurons. \n",
    "\n",
    "    \n",
    "<em> Note on the data: </em> To make our lifes easier, we already queried the most of the data needed for this exercise from the database. We have made it available as versioned files that can be readily read with pandas. The entire dataset is hosted using the <a href=https://caveconnectome.github.io/sections/cave_overview.html> Connectome Annotation Versioning Engine (CAVE) </a>. A separate notebook shows how to use CAVE to generate the files used in this notebook were created. \n",
    "    \n",
    "    \n",
    "</div>"
   ]
  },
  {
   "cell_type": "code",
   "execution_count": null,
   "id": "930eb0df-7c64-4d67-95b7-932b3a776eac",
   "metadata": {},
   "outputs": [],
   "source": [
    "# Paths to compiled data for this workshop\n",
    "\n",
    "syn_data_url = \"https://github.com/sdorkenw/MICrONS_workshop_CNC_forum/raw/refs/heads/main/data/synapses_proofread_V1_neurons_1293.feather\"\n",
    "cell_data_url = \"https://github.com/sdorkenw/MICrONS_workshop_CNC_forum/raw/refs/heads/main/data/cell_info_1293.feather\" "
   ]
  },
  {
   "cell_type": "markdown",
   "id": "38823119-e22a-4204-a78f-72ce392a29bb",
   "metadata": {},
   "source": [
    "<div style=\"border-left: 3px solid #000; padding: 1px; padding-left: 10px; background: #F0FAFF; \">\n",
    "   \n",
    "<b> The CAVEclient</b> is a python library that facilitates communication with a CAVE system. For convenience, we also use the package <b>skeleton_plot</b> which handles rendering the precomputed skeletons. Both packages can be installed with pip.\n",
    "    \n",
    "</div>"
   ]
  },
  {
   "cell_type": "code",
   "execution_count": null,
   "id": "25b6e34d-c0c7-4c63-83f9-bc46a4f69cd1",
   "metadata": {},
   "outputs": [],
   "source": [
    "!pip install skeleton_plot\n",
    "!pip install caveclient "
   ]
  },
  {
   "cell_type": "code",
   "execution_count": null,
   "id": "422b5e92-729a-4877-9135-d23f3d2e4317",
   "metadata": {},
   "outputs": [],
   "source": [
    "import caveclient\n",
    "import skeleton_plot as skelplot\n",
    "\n",
    "import pandas as pd\n",
    "import numpy as np\n",
    "from matplotlib import pyplot as plt\n",
    "import seaborn as sns"
   ]
  },
  {
   "cell_type": "markdown",
   "id": "94007788-4b23-4bce-9120-d17295be4b70",
   "metadata": {},
   "source": [
    "<div style=\"border-left: 3px solid #000; padding: 1px; padding-left: 10px; background: #F0FAFF; \">\n",
    "   \n",
    "<b> CAVE account setup </b>\n",
    "\n",
    "<p>In order to manage server traffic, every user needs to create a CAVE account and download a user token to access CAVE's services programmatically. The CAVE infrastructure can be read about in <a href='https://www.biorxiv.org/content/10.1101/2023.07.26.550598v1'>more detail on our preprint</a>. The MICrONS data is publicly available which means that no extra permissions need to be given to a new user account to access the data. Bulk downloads of some static data are also available without an account on <a href='https://microns-explorer.org/'> MICrONs Explorer</a>.\n",
    "\n",
    "<b> A Google account (or Google-enabled account) is required to create a CAVE account.\n",
    "\n",
    "<p> Go to: <a href=https://global.daf-apis.com/auth/api/v1/user/token> https://global.daf-apis.com/auth/api/v1/user/token </a>to view a list of your existing tokens\n",
    "<p> If you have never made a token before: \n",
    "<ol>\n",
    "  <li>go here: <a href=https://minnie.microns-daf.com/materialize/views/datastack/minnie65_public>https://minnie.microns-daf.com/materialize/views/datastack/minnie65_public</a> to accept terms of service</li>\n",
    "  <li>then go here <a href=https://global.daf-apis.com/auth/api/v1/create_token> https://global.daf-apis.com/auth/api/v1/create_token</a> to create a new token.</li>\n",
    "</ol>\n",
    "\n",
    "</div>"
   ]
  },
  {
   "cell_type": "code",
   "execution_count": null,
   "id": "6ba2aad4-e6ba-47fd-8241-870c81f1ae45",
   "metadata": {},
   "outputs": [],
   "source": [
    "my_token = None"
   ]
  },
  {
   "cell_type": "code",
   "execution_count": null,
   "id": "0eaa0dcf-1074-4cec-bf55-fd3c9d94dbf6",
   "metadata": {},
   "outputs": [],
   "source": [
    "client = caveclient.CAVEclient(\"minnie65_phase3_v1\", auth_token=my_token)"
   ]
  },
  {
   "cell_type": "markdown",
   "id": "1c06c677-771e-4737-92a1-9334b52d059c",
   "metadata": {},
   "source": [
    "<div style=\"border-left: 3px solid #000; padding: 1px; padding-left: 10px; background: #F0FAFF; \">\n",
    "   \n",
    "<p>If you are running this on your local machine rather than colab, you may also store the token on your machine. This makes future uses easier.\n",
    "\n",
    "</div>"
   ]
  },
  {
   "cell_type": "code",
   "execution_count": null,
   "id": "04f92a3d-cff1-4146-9f1c-63f6e41ec002",
   "metadata": {},
   "outputs": [],
   "source": [
    "# client.auth.save_token(token=my_token, overwrite=True)"
   ]
  },
  {
   "cell_type": "markdown",
   "id": "198679e1-cb29-4620-ae1d-58e326ec3f6c",
   "metadata": {},
   "source": [
    "<div style=\"border-left: 3px solid #000; padding: 1px; padding-left: 10px; background: #F0FAFF; \">\n",
    "\n",
    "    \n",
    "## Cell information\n",
    "\n",
    "### Cell types\n",
    "\n",
    "<b> Summarize cell typing - manual and automated </b>\n",
    "\n",
    "### Proofreading information\n",
    "\n",
    "\n",
    "Proofreading is necessary to obtain accurate reconstructions of a cell. In the MICrONS dataset, the general rule is that dendrites onto cells with a cell body are sufficiently proofread to trust synaptic connections onto a cell. Axons on the other hand require so much proofreading that only ~1,650 cells have proofread axons ... <b> extend </b>\n",
    "    \n",
    "    \n",
    "</div>"
   ]
  },
  {
   "cell_type": "code",
   "execution_count": null,
   "id": "1ff7b44b-fb81-4533-ab76-b58ff6d7b1c6",
   "metadata": {},
   "outputs": [],
   "source": [
    "cell_df = pd.read_feather(cell_data_url)"
   ]
  },
  {
   "cell_type": "code",
   "execution_count": null,
   "id": "53522f5e-754b-44ad-b342-fc9772b71f74",
   "metadata": {},
   "outputs": [],
   "source": [
    "cell_df[\"proofreading_strategy\"].value_counts()"
   ]
  },
  {
   "cell_type": "markdown",
   "id": "cf103af2-8bab-4255-9f3b-972cf9f7c0d7",
   "metadata": {},
   "source": [
    "<div style=\"border-left: 3px solid #000; padding: 1px; padding-left: 10px; background: #F0FAFF; \">\n",
    "\n",
    "    \n",
    "## Synapse information\n",
    "\n",
    "This table has all synapses for the proofread cells in V1\n",
    "    \n",
    "    \n",
    "</div>"
   ]
  },
  {
   "cell_type": "code",
   "execution_count": null,
   "id": "a546a6c9-b7eb-495f-904d-6c56a29be213",
   "metadata": {},
   "outputs": [],
   "source": [
    "syn_df = pd.read_feather(syn_data_url)"
   ]
  },
  {
   "cell_type": "markdown",
   "id": "141dae3b-4f71-4da3-a149-4fcbf7b68a92",
   "metadata": {},
   "source": [
    "<div style=\"border-left: 3px solid #000; padding: 1px; padding-left: 10px; background: #F0FAFF; \">\n",
    "\n",
    "    \n",
    "## Neuron morphology: plotting skeletons\n",
    "    \n",
    "</div>"
   ]
  },
  {
   "cell_type": "code",
   "execution_count": null,
   "id": "0089974c-bf10-403d-8ef9-fa4d45588696",
   "metadata": {},
   "outputs": [],
   "source": [
    "skel_color_map = {3: \"firebrick\", 4: \"salmon\", 2: \"steelblue\", 1: \"olive\"}\n",
    "\n",
    "def plot_skeleton(sk_d: dict, plot_soma=True, ax=None):\n",
    "    \"\"\"Plots a skeleton.\n",
    "    \n",
    "    Args:\n",
    "        sk: skeleton dict as returned from CAVEclient\n",
    "        \n",
    "    Returns: \n",
    "        ax: plot axes\n",
    "    \"\"\"\n",
    "    if ax is None:\n",
    "        fig, ax = plt.subplots(figsize=(7, 10), dpi=150)\n",
    "    \n",
    "    skelplot.plot_tools.plot_verts(np.array(sk_d[\"vertices\"]), np.array(sk_d[\"edges\"]), radius=np.array(sk_d[\"radius\"]) / 1000 * 1,\n",
    "                                   ax=ax, skel_colors = sk_d[\"compartment\"], title = \"\", skel_alpha = 1., \n",
    "                                   line_width = 5, x = 'x', y = 'y',  plot_soma = plot_soma, soma_node = sk_d[\"root\"],\n",
    "                                   color = 'darkslategray', soma_size = 120, invert_y = True, \n",
    "                                   skel_color_map = skel_color_map, x_min_max = None, \n",
    "                                   y_min_max = None, capstyle = \"round\", joinstyle = \"round\",)\n",
    "\n",
    "    ax.spines['right'].set_visible(False) \n",
    "    ax.spines['left'].set_visible(False) \n",
    "    ax.spines['top'].set_visible(False) \n",
    "    ax.spines['bottom'].set_visible(False)\n",
    "    ax.axis('off')\n",
    "    \n",
    "    return ax"
   ]
  },
  {
   "cell_type": "code",
   "execution_count": null,
   "id": "d2474163-2b6b-4891-929d-6304b5aca3be",
   "metadata": {},
   "outputs": [],
   "source": [
    "root_id = cell_df[cell_df[\"proofreading_strategy\"] == \"axon_fully_extended\"].iloc[3][\"pt_root_id\"]\n",
    "sk_d = client.skeleton.get_skeleton(root_id, output_format=\"dict\")"
   ]
  },
  {
   "cell_type": "code",
   "execution_count": null,
   "id": "df9de11f-5f41-4354-8f5e-ea3fcf0fd6ed",
   "metadata": {},
   "outputs": [],
   "source": [
    "ax = plot_skeleton(sk_d)\n",
    "plt.show()"
   ]
  },
  {
   "cell_type": "markdown",
   "id": "994f7ec9-7a3a-4df0-bc15-8f1225a0070f",
   "metadata": {},
   "source": [
    "<div style=\"border-left: 3px solid #000; padding: 1px; padding-left: 10px; background: #F0FAFF; \">\n",
    "\n",
    "    \n",
    "## Neuron morphology & synapses\n",
    "    \n",
    "</div>"
   ]
  },
  {
   "cell_type": "code",
   "execution_count": null,
   "id": "a91211c2-5ac6-4e71-8a13-1a0b43f5d23a",
   "metadata": {},
   "outputs": [],
   "source": [
    "def filter_synapse_table(synapse_table: pd.DataFrame, pre_root_ids=None, post_root_ids=None):   \n",
    "    \"\"\"Filter synapse table by pre and post root ids.\n",
    "\n",
    "    Args:\n",
    "        synapse_table: synapse table with pre_pt_root_ids and post_pt_root_ids as pd.DataFrame\n",
    "        pre_root_ids: np.ndarray, list or pd.Series if root_ids to filter on the presynaptic side\n",
    "        post_root_ids: np.ndarray, list or pd.Series if root_ids to filter on the postsynaptic side\n",
    "\n",
    "    Returns:\n",
    "        synapse_table: filtered synapse table\n",
    "    \"\"\"\n",
    "    \n",
    "    if pre_root_ids is not None:\n",
    "        assert isinstance(pre_root_ids, (np.ndarray, list, pd.core.series.Series)), f\"IDs have to be of type np.ndarray, list or pd.Series; got {type(pre_root_ids)}\"\n",
    "        pre_m = np.isin(synapse_table[\"pre_pt_root_id\"], pre_root_ids)\n",
    "    else:\n",
    "        pre_m = np.ones(len(synapse_table), dtype=bool)\n",
    "        \n",
    "    if post_root_ids is not None:\n",
    "        assert isinstance(post_root_ids, (np.ndarray, list, pd.core.series.Series)), f\"IDs have to be of type np.ndarray, list or pd.Series; got {type(pre_root_ids)}\"\n",
    "        post_m = np.isin(synapse_table[\"post_pt_root_id\"], post_root_ids)\n",
    "    else:\n",
    "        post_m = np.ones(len(synapse_table), dtype=bool)\n",
    "        \n",
    "    return synapse_table[pre_m & post_m]"
   ]
  },
  {
   "cell_type": "code",
   "execution_count": null,
   "id": "92f48c5e-5c2b-4aad-8038-ec3cf9211bc4",
   "metadata": {},
   "outputs": [],
   "source": [
    "pre_syns = filter_synapse_table(syn_df, pre_root_ids=[root_id])"
   ]
  },
  {
   "cell_type": "code",
   "execution_count": null,
   "id": "adeffc3d-c0d9-49ba-a499-b02590644795",
   "metadata": {},
   "outputs": [],
   "source": [
    "pre_syns.head(5)"
   ]
  },
  {
   "cell_type": "code",
   "execution_count": null,
   "id": "f83d7e43-1ea0-4704-919b-8e3bf7937f10",
   "metadata": {},
   "outputs": [],
   "source": [
    "ax = plot_skeleton(sk_d)\n",
    "\n",
    "sns.scatterplot(data=pre_syns, x=\"ctr_pt_position_x\", y=\"ctr_pt_position_y\", \n",
    "                s=5, color=\"b\", ax=ax, edgecolor=None, zorder=100) "
   ]
  },
  {
   "cell_type": "markdown",
   "id": "53e4d6e5-c7c1-4292-ba7a-62c6179ad1a6",
   "metadata": {},
   "source": [
    "<div style=\"background: #DFF0D8; border-radius: 3px; padding: 10px;\">\n",
    "<p><b>Task 1:</b> Use the filter function above to create a dataframe of all postsynaptic synapses and create a version of the plot above that includes these postsynaptic synapses. \n",
    "    \n",
    "</div>"
   ]
  },
  {
   "cell_type": "code",
   "execution_count": null,
   "id": "b9bbd370-88e2-4696-9acc-a6c7d65e9ac3",
   "metadata": {},
   "outputs": [],
   "source": [
    "post_syns = filter_synapse_table(syn_df, post_root_ids=[root_id])"
   ]
  },
  {
   "cell_type": "code",
   "execution_count": null,
   "id": "067d5b53-9f0d-42ec-b64d-ec8db7c282d2",
   "metadata": {},
   "outputs": [],
   "source": [
    "ax = plot_skeleton(sk_d)\n",
    "\n",
    "sns.scatterplot(data=pre_syns, x=\"ctr_pt_position_x\", y=\"ctr_pt_position_y\", \n",
    "                s=5, color=\"b\", ax=ax, edgecolor=None, zorder=100) \n",
    "\n",
    "sns.scatterplot(data=post_syns, x=\"ctr_pt_position_x\", y=\"ctr_pt_position_y\", \n",
    "                s=5, color=\"r\", ax=ax, edgecolor=None, zorder=100) "
   ]
  },
  {
   "cell_type": "markdown",
   "id": "38d12ea5-e153-4c82-b990-29b535e69af5",
   "metadata": {},
   "source": [
    "<div style=\"border-left: 3px solid #000; padding: 1px; padding-left: 10px; background: #F0FAFF; \">\n",
    "\n",
    "## Synapse matrix\n",
    "\n",
    "The synapses of neurons create a network of synaptic connections. One way of visualizing this connectivity is in a matrix form. Pandas provides the `pivot_table` function that we can use to make a matrix out of the tabular synapse data. For now, we will limit ourselves to the synapses between the proofread neurons.\n",
    "    \n",
    "Each synapses has a `size` value assigned to it. How to aggregate the sizes from multiple synapes between two neurons depends on the research question. Synapse sizes vary by a lot and are related to the physiological strength of a synapse. In this notebook, we ignore the synapse size and only look at binary (connected yes/no) connectivity.\n",
    "\n",
    "</d>"
   ]
  },
  {
   "cell_type": "code",
   "execution_count": null,
   "id": "e4bc260d-e26d-4691-a326-eb2b840a9e32",
   "metadata": {},
   "outputs": [],
   "source": [
    "proof_root_ids = np.array(cell_df[cell_df[\"proofreading_strategy\"] != \"\"][\"pt_root_id\"])\n",
    "proof_proof_syn_table = filter_synapse_table(syn_df, pre_root_ids=proof_root_ids, post_root_ids=proof_root_ids)\n",
    "\n",
    "syn_mat = proof_proof_syn_table.pivot_table(index=\"pre_pt_root_id\", columns=\"post_pt_root_id\", \n",
    "                                            values=\"size\", aggfunc=lambda x: float(np.sum(x) > 0)).fillna(0)\n",
    "\n",
    "# Make matrix is quadratic\n",
    "syn_mat = syn_mat.reindex(columns=np.array(syn_mat.index))"
   ]
  },
  {
   "cell_type": "code",
   "execution_count": null,
   "id": "ca17e8dd-4354-4b64-bac0-a9b4b55bbaa2",
   "metadata": {},
   "outputs": [],
   "source": [
    "fig, ax = plt.subplots(figsize=(7, 5), dpi=150)\n",
    "sns.heatmap(syn_mat, cmap=\"gray_r\", xticklabels=[], yticklabels=[], \n",
    "            ax=ax, square=True,\n",
    "            cbar_kws={\"label\": \"Connected - binary\"})"
   ]
  },
  {
   "cell_type": "markdown",
   "id": "f617da7e-8d13-4658-8986-909c21756905",
   "metadata": {},
   "source": [
    "<div style=\"border-left: 3px solid #000; padding: 1px; padding-left: 10px; background: #F0FAFF; \">\n",
    "\n",
    "## Cell type information\n",
    "\n",
    "<b>TODO: Add explainer and improve plot with cell types.</b>\n",
    "    \n",
    "</d>"
   ]
  },
  {
   "cell_type": "code",
   "execution_count": null,
   "id": "bc959f20-1aab-467e-a73e-e44fd4fbc4b9",
   "metadata": {},
   "outputs": [],
   "source": [
    "fig, ax = plt.subplots(figsize=(6, 6), dpi=150)\n",
    "ax.tick_params(labelsize=14)\n",
    "sns.scatterplot(data=cell_df, x=\"volume\", y=\"pt_position_y\", size=1, edgecolor=None, alpha=.01, color=\"k\", ax=ax, legend=False)\n",
    "ax.invert_yaxis()\n",
    "ax.set_xlabel(\"Volume ($\\mu m^3$)\", fontsize=16)\n",
    "ax.set_ylabel(\"Depth ($\\mu m$)\", fontsize=16)\n",
    "ax.set_xlim(0, 500)\n",
    "plt.show()"
   ]
  },
  {
   "cell_type": "code",
   "execution_count": null,
   "id": "77b4cbc0-4e80-48f7-8668-aff00027c36c",
   "metadata": {},
   "outputs": [],
   "source": [
    "fig, ax = plt.subplots(figsize=(6, 6), dpi=150)\n",
    "ax.tick_params(labelsize=14)\n",
    "sns.scatterplot(data=cell_df, x=\"volume\", y=\"pt_position_y\", size=1, edgecolor=None, alpha=.1, color=\"k\", ax=ax, \n",
    "                legend=True, hue=\"cell_type_auto\")\n",
    "ax.invert_yaxis()\n",
    "ax.set_xlabel(\"Volume ($\\mu m^3$)\", fontsize=16)\n",
    "ax.set_ylabel(\"Depth ($\\mu m$)\", fontsize=16)\n",
    "ax.set_xlim(0, 500)\n",
    "plt.show()"
   ]
  },
  {
   "cell_type": "markdown",
   "id": "a6bc3313-c865-4630-9eac-97cfa641b078",
   "metadata": {},
   "source": [
    "<div style=\"border-left: 3px solid #000; padding: 1px; padding-left: 10px; background: #F0FAFF; \">\n",
    "\n",
    "## Sorting the synapse matrix with cell types\n",
    "    \n",
    "Let's combine the synaptic connecitivity with the cell type information. Below we provide logic for sorting a connectivity matrix using a list of labels.    \n",
    "    \n",
    "</d>"
   ]
  },
  {
   "cell_type": "code",
   "execution_count": null,
   "id": "cf35008e-ab13-45d1-8cde-1af694e11815",
   "metadata": {},
   "outputs": [],
   "source": [
    "def sort_matrix_by_types(mat: pd.DataFrame, \n",
    "                         labels: pd.DataFrame, \n",
    "                         label_type_col: str = \"cell_type_auto\", \n",
    "                         label_id_col: str = \"pt_root_id\", \n",
    "                         post_labels: pd.DataFrame = None, \n",
    "                         post_label_type_col: str = None, \n",
    "                         post_label_id_col: str = None):\n",
    "    \"\"\"Sorts (synapse) matrix by labels.\n",
    "\n",
    "    This function assumes a square synapse matrix!\n",
    "\n",
    "    Args:\n",
    "        mat: synapse matrix as pandas DataFrame\n",
    "        labels: DataFrame with labels, e.g. the output of client.materialize.query_table('aibs_metamodel_celltypes_v661')\n",
    "        label_type_col: column name in labels for cell types\n",
    "        label_id_col: column name in labels for root ids\n",
    "        post_labels: DataFrame with labels, e.g. the output of client.materialize.query_table('aibs_metamodel_celltypes_v661')\n",
    "        post_label_type_col: column name in labels for cell types\n",
    "        post_label_id_col: column name in labels for root ids\n",
    "\n",
    "    Returns:\n",
    "        mat_sorted: sorted matrix\n",
    "        mat_labels: sorted labels; has the same length as matrix\n",
    "    \"\"\"\n",
    "    \n",
    "    if post_labels is None:\n",
    "        post_labels = labels\n",
    "    if post_label_type_col is None:\n",
    "        post_label_type_col = label_type_col\n",
    "    if post_label_id_col is None:\n",
    "        post_label_id_col = label_id_col\n",
    "        \n",
    "    mat_sorted = mat.copy()\n",
    "    \n",
    "    pre_mat_labels = np.array(labels.set_index(label_id_col).loc[mat_sorted.index][label_type_col])\n",
    "    pre_sorting = np.argsort(pre_mat_labels)\n",
    "\n",
    "    post_mat_labels = np.array(post_labels.set_index(post_label_id_col).loc[mat_sorted.T.index][post_label_type_col])\n",
    "    post_sorting = np.argsort(post_mat_labels)\n",
    "\n",
    "    mat_sorted = mat_sorted.iloc[pre_sorting].T.iloc[post_sorting].T\n",
    "\n",
    "    return mat_sorted, pre_mat_labels[pre_sorting], post_mat_labels[post_sorting]"
   ]
  },
  {
   "cell_type": "code",
   "execution_count": null,
   "id": "500c041b-f7cf-4c6a-b014-5e75edbd6315",
   "metadata": {},
   "outputs": [],
   "source": [
    "proof_E_root_ids = np.array(cell_df[np.array(cell_df[\"proofreading_strategy\"] != \"\") & np.array(cell_df[\"coarse_cell_type_auto\"] == \"E\")][\"pt_root_id\"])\n",
    "proof_proof_syn_table = filter_synapse_table(syn_df, pre_root_ids=proof_E_root_ids, post_root_ids=proof_E_root_ids)\n",
    "\n",
    "syn_mat = proof_proof_syn_table.pivot_table(index=\"pre_pt_root_id\", columns=\"post_pt_root_id\", \n",
    "                                            values=\"size\", aggfunc=lambda x: float(np.sum(x) > 0)).fillna(0)\n",
    "\n",
    "syn_mat = syn_mat.reindex(columns=np.array(syn_mat.index))\n",
    "\n",
    "syn_mat_ct, syn_mat_cell_types, _ = sort_matrix_by_types(syn_mat, cell_df, label_type_col=\"cell_type_auto\")"
   ]
  },
  {
   "cell_type": "code",
   "execution_count": null,
   "id": "13b5e56a-185a-4ae3-b2dd-de1ac88188fa",
   "metadata": {},
   "outputs": [],
   "source": [
    "cts, ct_idx = np.unique(syn_mat_cell_types, return_inverse=True)\n",
    "ct_colors = plt.get_cmap(\"tab10\")(ct_idx)\n",
    "\n",
    "fig, ax = plt.subplots(figsize=(7, 5))\n",
    "sns.heatmap(syn_mat_ct, cmap=\"gray_r\", xticklabels=[], yticklabels=[], \n",
    "            ax=ax, square=True,\n",
    "            cbar_kws={\"label\": \"Connected - binary\"})\n",
    "\n",
    "\n",
    "# Adding row and column colors for cell types\n",
    "for i, color in enumerate(ct_colors):\n",
    "    ax.add_patch(plt.Rectangle(xy=(-0.01, i), width=0.01, height=1, color=color, lw=0,\n",
    "                               transform=ax.get_yaxis_transform(), clip_on=False))\n",
    "\n",
    "for i, color in enumerate(ct_colors):\n",
    "    ax.add_patch(plt.Rectangle(xy=(i, 1), height=0.01, width=1, color=color, lw=0,\n",
    "                               transform=ax.get_xaxis_transform(), clip_on=False))  "
   ]
  },
  {
   "cell_type": "code",
   "execution_count": null,
   "id": "0f221c9f-23c3-4b44-a49c-b2d71babf125",
   "metadata": {},
   "outputs": [],
   "source": []
  }
 ],
 "metadata": {
  "kernelspec": {
   "display_name": "microns2025",
   "language": "python",
   "name": "microns2025"
  },
  "language_info": {
   "codemirror_mode": {
    "name": "ipython",
    "version": 3
   },
   "file_extension": ".py",
   "mimetype": "text/x-python",
   "name": "python",
   "nbconvert_exporter": "python",
   "pygments_lexer": "ipython3",
   "version": "3.11.11"
  }
 },
 "nbformat": 4,
 "nbformat_minor": 5
}
