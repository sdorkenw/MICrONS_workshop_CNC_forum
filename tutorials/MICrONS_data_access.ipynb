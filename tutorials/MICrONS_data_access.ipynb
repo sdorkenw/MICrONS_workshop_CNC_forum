{
 "cells": [
  {
   "cell_type": "markdown",
   "id": "3242c400-4f90-4013-a2c7-c5d64e6d4d4f",
   "metadata": {},
   "source": [
    "# Programmatic access and analysis of the MICrONS dataset"
   ]
  },
  {
   "cell_type": "markdown",
   "id": "cee96ece-4ffc-4a4d-8e2f-15ae406c9dda",
   "metadata": {},
   "source": [
    "<div style=\"border-left: 3px solid #000; padding: 1px; padding-left: 10px; background: #F0FAFF; \">\n",
    "   \n",
    "<b> Electron Microscopy (EM) data enables morphological reconstruction of neurons and detection of their synaptic connectivity </b>. The <a href=https://www.microns-explorer.org/cortical-mm3>MICrONS dataset </a> is one of the largest datasets volume EM datasets currently available, and spans all layers of visual cortex. We will be using this dataset to query the connectivity between the excitatory neurons in the visual cortex. \n",
    "\n",
    "<ol> The exercises will cover: \n",
    "    <li>connectivity of individual neurons</li>\n",
    "    <li>connectivity of inhibitory neurons</li>\n",
    "    <li>in/out degree of inhibitory neurons.</li>\n",
    "</ol>\n",
    "\n",
    "    \n",
    "<em> Note on data access: </em> To make our lifes easier, we already queried the most of the data needed for this exercise from the database. We have made it available as versioned files that can be read with pandas. The entire dataset is hosted using the <a href=https://caveconnectome.github.io/sections/cave_overview.html> Connectome Annotation Versioning Engine (CAVE) </a>. A separate notebook shows how to use CAVE to generate the files used in this notebook. \n",
    "    \n",
    "    \n",
    "</div>"
   ]
  },
  {
   "cell_type": "code",
   "execution_count": null,
   "id": "930eb0df-7c64-4d67-95b7-932b3a776eac",
   "metadata": {},
   "outputs": [],
   "source": [
    "mat_version = 1300\n",
    "\n",
    "# Paths to compiled data for this workshop\n",
    "syn_data_url = f\"https://github.com/sdorkenw/MICrONS_workshop_CNC_forum/raw/refs/heads/main/data/synapses_proofread_V1_neurons_{mat_version}.feather\"\n",
    "cell_data_url = f\"https://github.com/sdorkenw/MICrONS_workshop_CNC_forum/raw/refs/heads/main/data/cell_info_{mat_version}.feather\" "
   ]
  },
  {
   "cell_type": "markdown",
   "id": "38823119-e22a-4204-a78f-72ce392a29bb",
   "metadata": {},
   "source": [
    "<div style=\"border-left: 3px solid #000; padding: 1px; padding-left: 10px; background: #F0FAFF; \">\n",
    "   \n",
    "<b> The CAVEclient</b> is a python library that facilitates communication with a CAVE system. For convenience, we also use the package <b>skeleton_plot</b> which handles rendering the precomputed skeletons. Both packages can be installed with pip.\n",
    "    \n",
    "</div>"
   ]
  },
  {
   "cell_type": "code",
   "execution_count": null,
   "id": "25b6e34d-c0c7-4c63-83f9-bc46a4f69cd1",
   "metadata": {},
   "outputs": [],
   "source": [
    "!pip install -q skeleton_plot\n",
    "!pip install -q caveclient "
   ]
  },
  {
   "cell_type": "code",
   "execution_count": null,
   "id": "422b5e92-729a-4877-9135-d23f3d2e4317",
   "metadata": {},
   "outputs": [],
   "source": [
    "import caveclient\n",
    "import skeleton_plot as skelplot\n",
    "\n",
    "import pandas as pd\n",
    "import numpy as np\n",
    "from matplotlib import pyplot as plt\n",
    "import matplotlib\n",
    "import seaborn as sns"
   ]
  },
  {
   "cell_type": "markdown",
   "id": "94007788-4b23-4bce-9120-d17295be4b70",
   "metadata": {},
   "source": [
    "<div style=\"border-left: 3px solid #000; padding: 1px; padding-left: 10px; background: #F0FAFF; \">\n",
    "   \n",
    "<b> CAVE account setup </b>\n",
    "\n",
    "<p>In order to manage server traffic, every user needs to create a CAVE account and download a user token to access CAVE's services programmatically. The CAVE infrastructure can be read about in <a href='https://www.biorxiv.org/content/10.1101/2023.07.26.550598v1'>more detail on our preprint</a>. The MICrONS data is publicly available which means that no extra permissions need to be given to a new user account to access the data. Bulk downloads of some static data are also available without an account on <a href='https://microns-explorer.org/'> MICrONs Explorer</a>.\n",
    "\n",
    "<b> A Google account (or Google-enabled account) is required to create a CAVE account.\n",
    "\n",
    "<p> Go to: <a href=https://global.daf-apis.com/auth/api/v1/user/token> https://global.daf-apis.com/auth/api/v1/user/token </a>to view a list of your existing tokens\n",
    "<p> If you have never made a token before: \n",
    "<ol>\n",
    "  <li>go here: <a href=https://minnie.microns-daf.com/materialize/views/datastack/minnie65_public>https://minnie.microns-daf.com/materialize/views/datastack/minnie65_public</a> to accept terms of service</li>\n",
    "  <li>then go here <a href=https://global.daf-apis.com/auth/api/v1/create_token> https://global.daf-apis.com/auth/api/v1/create_token</a> to create a new token.</li>\n",
    "</ol>\n",
    "\n",
    "</div>"
   ]
  },
  {
   "cell_type": "code",
   "execution_count": null,
   "id": "0eaa0dcf-1074-4cec-bf55-fd3c9d94dbf6",
   "metadata": {},
   "outputs": [],
   "source": [
    "my_token = \"PASTE_TOKEN_HERE\"\n",
    "client = caveclient.CAVEclient(\"minnie65_public\", auth_token=my_token)"
   ]
  },
  {
   "cell_type": "markdown",
   "id": "1c06c677-771e-4737-92a1-9334b52d059c",
   "metadata": {},
   "source": [
    "<div style=\"border-left: 3px solid #000; padding: 1px; padding-left: 10px; background: #F0FAFF; \">\n",
    "   \n",
    "<p>If you are running this on your local machine rather than colab, you may also store the token on your machine. This makes future access easier as you do not have to specify the token.\n",
    "\n",
    "</div>"
   ]
  },
  {
   "cell_type": "code",
   "execution_count": null,
   "id": "04f92a3d-cff1-4146-9f1c-63f6e41ec002",
   "metadata": {},
   "outputs": [],
   "source": [
    "# client.auth.save_token(token=my_token, overwrite=True)"
   ]
  },
  {
   "cell_type": "markdown",
   "id": "198679e1-cb29-4620-ae1d-58e326ec3f6c",
   "metadata": {},
   "source": [
    "<div style=\"border-left: 3px solid #000; padding: 1px; padding-left: 10px; background: #F0FAFF; \">\n",
    "\n",
    "    \n",
    "## Proofreading and data quality\n",
    "Understanding this variablity in data quality is critical when interpretting the MICrONS data.\n",
    "\n",
    "Automated segmentation of neuronal processes in dense EM imaging is challenging at the size of entire neurons, which can have millimeters of axons and dendrites. The automated segmentation algorithms used in the EM data for this project are not perfect, and so proofreading is necessary to obtain accurate reconstructions of a cell and confidence in the connectivity\n",
    "\n",
    "In the MICrONS dataset, the general rule is that dendrites onto cells with a cell body are sufficiently proofread to trust synaptic connections onto a cell. Axons on the other hand require so much proofreading that only ~1,650 cells have proofread axons.\n",
    "\n",
    "Axon and dendrite compartment status are marked separately, as proofreading effort was applied differently to the different compartments in some cells.  In all cases, a status of `TRUE` indicates that false merges have been comprehensively removed, and the compartment is at least ‘clean’. Consult the ‘strategy’ column if completeness of the compartment is relevant to your  research.\n",
    "\n",
    "Some cells were extended to different degrees of completeness, or with different research goals in mind. This is denoted by 'strategy_axon', which may be one of:\n",
    "\n",
    "<ul>\n",
    "    <li>none: No cleaning, and no extension, and status is `FALSE`. </li>\n",
    "    <li>axon_partially_extended: The axon was extended outward from the soma, following each branch to its termination. Output synapses represent a sampling of potential partners. </li>\n",
    "    <li>axon_interareal: The axon was extended with a preference for branches that projected to other brain areas. Some axon branches were fully extended, but local connections may be incomplete. Output synapses represent a sampling of potential partners. </li>\n",
    "    <li>axon_fully_extended: Axon was extended outward from the soma, following each branch to its termination. After initial extension, every endpoint was identified, manually inspected, and extended again if possible. Output synapses represent a largely complete sampling of partners.. </li>\n",
    "</ul>\n",
    "\n",
    "<b> For this workshop, we treat all cells with at least `axon_partially_extended` as equally trustworth.</b> This may not be a safe assumption for all analysis, and we are happy to provide more guidance depending on the research question.\n",
    "    \n",
    "</div>"
   ]
  },
  {
   "cell_type": "code",
   "execution_count": null,
   "id": "1ff7b44b-fb81-4533-ab76-b58ff6d7b1c6",
   "metadata": {},
   "outputs": [],
   "source": [
    "cell_df = pd.read_feather(cell_data_url)"
   ]
  },
  {
   "cell_type": "code",
   "execution_count": null,
   "id": "53522f5e-754b-44ad-b342-fc9772b71f74",
   "metadata": {},
   "outputs": [],
   "source": [
    "cell_df[\"proofreading_strategy\"].value_counts()"
   ]
  },
  {
   "cell_type": "markdown",
   "id": "cf103af2-8bab-4255-9f3b-972cf9f7c0d7",
   "metadata": {},
   "source": [
    "<div style=\"border-left: 3px solid #000; padding: 1px; padding-left: 10px; background: #F0FAFF; \">\n",
    "\n",
    "    \n",
    "## Synapse information\n",
    "\n",
    "While synapses are stored as any other CAVE table in the database, in this case `synapses_pni_2`, this table is much larger than any other table at more than <b>337 million rows</b>, and it works best when queried in a directed way.\n",
    "\n",
    "For today's workshop we have collected all of the input and output synapses for the proofread cells in version 1300. When accessing CAVE, the `synapse_query()` function allows you to query the synapse table in a more convenient way than most other tables. In particular, the pre_ids and post_ids let you specify which root id (or collection of root ids) you want to query, with pre_ids indicating the collection of presynaptic neurons and post_ids the collection of postsynaptic neurons.\n",
    "\n",
    "\n",
    "Note that synapse queries always return the list of every synapse between the neurons in the query, even if there are multiple synapses between the same pair of neurons.\n",
    "\n",
    "A common pattern to generate a list of connections between unique pairs of neurons is to group by the root ids of the presynaptic and postsynaptic neurons and then count the number of synapses between them. \n",
    "    \n",
    "    \n",
    "</div>"
   ]
  },
  {
   "cell_type": "code",
   "execution_count": null,
   "id": "a546a6c9-b7eb-495f-904d-6c56a29be213",
   "metadata": {},
   "outputs": [],
   "source": [
    "syn_df = pd.read_feather(syn_data_url)"
   ]
  },
  {
   "cell_type": "markdown",
   "id": "141dae3b-4f71-4da3-a149-4fcbf7b68a92",
   "metadata": {},
   "source": [
    "<div style=\"border-left: 3px solid #000; padding: 1px; padding-left: 10px; background: #F0FAFF; \">\n",
    "\n",
    "    \n",
    "## Neuron morphology: plotting skeletons\n",
    "    \n",
    "</div>"
   ]
  },
  {
   "cell_type": "code",
   "execution_count": null,
   "id": "0089974c-bf10-403d-8ef9-fa4d45588696",
   "metadata": {},
   "outputs": [],
   "source": [
    "skel_color_map = {3: \"firebrick\", 4: \"salmon\", 2: \"steelblue\", 1: \"olive\"}\n",
    "\n",
    "def plot_skeleton(sk_d: dict, plot_soma=True, ax=None):\n",
    "    \"\"\"Plots a skeleton.\n",
    "    \n",
    "    Args:\n",
    "        sk: skeleton dict as returned from CAVEclient\n",
    "        \n",
    "    Returns: \n",
    "        ax: plot axes\n",
    "    \"\"\"\n",
    "    if ax is None:\n",
    "        fig, ax = plt.subplots(figsize=(7, 10), dpi=150)\n",
    "    \n",
    "    skelplot.plot_tools.plot_verts(np.array(sk_d[\"vertices\"]), np.array(sk_d[\"edges\"]), radius=np.array(sk_d[\"radius\"]) / 1000 * 1,\n",
    "                                   ax=ax, skel_colors = sk_d[\"compartment\"], title = \"\", skel_alpha = 1., \n",
    "                                   line_width = 5, x = 'x', y = 'y',  plot_soma = plot_soma, soma_node = sk_d[\"root\"],\n",
    "                                   color = 'darkslategray', soma_size = 120, invert_y = True, \n",
    "                                   skel_color_map = skel_color_map, x_min_max = None, \n",
    "                                   y_min_max = None, capstyle = \"round\", joinstyle = \"round\",)\n",
    "\n",
    "    ax.spines['right'].set_visible(False) \n",
    "    ax.spines['left'].set_visible(False) \n",
    "    ax.spines['top'].set_visible(False) \n",
    "    ax.spines['bottom'].set_visible(False)\n",
    "    ax.axis('off')\n",
    "    \n",
    "    return ax"
   ]
  },
  {
   "cell_type": "code",
   "execution_count": null,
   "id": "d2474163-2b6b-4891-929d-6304b5aca3be",
   "metadata": {},
   "outputs": [],
   "source": [
    "# select from the cells which are fully extended\n",
    "root_id = cell_df[cell_df[\"proofreading_strategy\"] == \"axon_fully_extended\"].iloc[3][\"pt_root_id\"]\n",
    "\n",
    "# Query the skeleton from CAVEclient\n",
    "sk_d = client.skeleton.get_skeleton(root_id, output_format=\"dict\")"
   ]
  },
  {
   "cell_type": "code",
   "execution_count": null,
   "id": "df9de11f-5f41-4354-8f5e-ea3fcf0fd6ed",
   "metadata": {},
   "outputs": [],
   "source": [
    "# Plot skeleton in 2D\n",
    "ax = plot_skeleton(sk_d)\n",
    "plt.show()"
   ]
  },
  {
   "cell_type": "markdown",
   "id": "994f7ec9-7a3a-4df0-bc15-8f1225a0070f",
   "metadata": {},
   "source": [
    "<div style=\"border-left: 3px solid #000; padding: 1px; padding-left: 10px; background: #F0FAFF; \">\n",
    "\n",
    "    \n",
    "## Neuron morphology & synapses\n",
    "    \n",
    "</div>"
   ]
  },
  {
   "cell_type": "code",
   "execution_count": null,
   "id": "a91211c2-5ac6-4e71-8a13-1a0b43f5d23a",
   "metadata": {},
   "outputs": [],
   "source": [
    "def filter_synapse_table(synapse_table: pd.DataFrame, pre_root_ids=None, post_root_ids=None):   \n",
    "    \"\"\"Filter synapse table by pre and post root ids.\n",
    "\n",
    "    Args:\n",
    "        synapse_table: synapse table with pre_pt_root_ids and post_pt_root_ids as pd.DataFrame\n",
    "        pre_root_ids: np.ndarray, list or pd.Series if root_ids to filter on the presynaptic side\n",
    "        post_root_ids: np.ndarray, list or pd.Series if root_ids to filter on the postsynaptic side\n",
    "\n",
    "    Returns:\n",
    "        synapse_table: filtered synapse table\n",
    "    \"\"\"\n",
    "    \n",
    "    if pre_root_ids is not None:\n",
    "        assert isinstance(pre_root_ids, (np.ndarray, list, pd.core.series.Series)), f\"IDs have to be of type np.ndarray, list or pd.Series; got {type(pre_root_ids)}\"\n",
    "        pre_m = np.isin(synapse_table[\"pre_pt_root_id\"], pre_root_ids)\n",
    "    else:\n",
    "        pre_m = np.ones(len(synapse_table), dtype=bool)\n",
    "        \n",
    "    if post_root_ids is not None:\n",
    "        assert isinstance(post_root_ids, (np.ndarray, list, pd.core.series.Series)), f\"IDs have to be of type np.ndarray, list or pd.Series; got {type(pre_root_ids)}\"\n",
    "        post_m = np.isin(synapse_table[\"post_pt_root_id\"], post_root_ids)\n",
    "    else:\n",
    "        post_m = np.ones(len(synapse_table), dtype=bool)\n",
    "        \n",
    "    return synapse_table[pre_m & post_m]"
   ]
  },
  {
   "cell_type": "code",
   "execution_count": null,
   "id": "92f48c5e-5c2b-4aad-8038-ec3cf9211bc4",
   "metadata": {},
   "outputs": [],
   "source": [
    "# Select the synapses where your root_id is the presynaptic ('upstream') cell; the outputs of your cell\n",
    "pre_syns = filter_synapse_table(syn_df, pre_root_ids=[root_id])"
   ]
  },
  {
   "cell_type": "code",
   "execution_count": null,
   "id": "adeffc3d-c0d9-49ba-a499-b02590644795",
   "metadata": {},
   "outputs": [],
   "source": [
    "pre_syns.head(5)"
   ]
  },
  {
   "cell_type": "code",
   "execution_count": null,
   "id": "f83d7e43-1ea0-4704-919b-8e3bf7937f10",
   "metadata": {},
   "outputs": [],
   "source": [
    "# Plot your skeleton and overlay synapses\n",
    "ax = plot_skeleton(sk_d)\n",
    "\n",
    "sns.scatterplot(data=pre_syns, x=\"ctr_pt_position_x\", y=\"ctr_pt_position_y\", \n",
    "                s=5, color=\"b\", ax=ax, edgecolor=None, zorder=100) "
   ]
  },
  {
   "cell_type": "markdown",
   "id": "53e4d6e5-c7c1-4292-ba7a-62c6179ad1a6",
   "metadata": {},
   "source": [
    "<div style=\"background: #DFF0D8; border-radius: 3px; padding: 10px;\">\n",
    "<p><b>Task 1:</b> Use the filter function above to create a dataframe of all postsynaptic synapses and create a version of the plot above that includes these postsynaptic synapses. \n",
    "    \n",
    "</div>"
   ]
  },
  {
   "cell_type": "code",
   "execution_count": null,
   "id": "b9bbd370-88e2-4696-9acc-a6c7d65e9ac3",
   "metadata": {},
   "outputs": [],
   "source": [
    "# Select the synapses where your root_id is postsynaptic ('downstream'); the inputs to your cell\n",
    "post_syns = filter_synapse_table(syn_df, post_root_ids=[root_id])"
   ]
  },
  {
   "cell_type": "code",
   "execution_count": null,
   "id": "067d5b53-9f0d-42ec-b64d-ec8db7c282d2",
   "metadata": {},
   "outputs": [],
   "source": [
    "# Plot skeleton with input and output synapses\n",
    "ax = plot_skeleton(sk_d)\n",
    "\n",
    "sns.scatterplot(data=pre_syns, x=\"ctr_pt_position_x\", y=\"ctr_pt_position_y\", \n",
    "                s=5, color=\"b\", ax=ax, edgecolor=None, zorder=100) \n",
    "\n",
    "sns.scatterplot(data=post_syns, x=\"ctr_pt_position_x\", y=\"ctr_pt_position_y\", \n",
    "                s=5, color=\"r\", ax=ax, edgecolor=None, zorder=100) "
   ]
  },
  {
   "cell_type": "markdown",
   "id": "38d12ea5-e153-4c82-b990-29b535e69af5",
   "metadata": {},
   "source": [
    "<div style=\"border-left: 3px solid #000; padding: 1px; padding-left: 10px; background: #F0FAFF; \">\n",
    "\n",
    "## Synapse matrix\n",
    "\n",
    "The synapses of neurons create a network of synaptic connections. One way of visualizing this connectivity is in a matrix form. Pandas provides the `pivot_table` function that we can use to make a matrix out of the tabular synapse data. For now, we will limit ourselves to the synapses between the proofread neurons.\n",
    "    \n",
    "Each synapses has a `size` value assigned to it. How to aggregate the sizes from multiple synapes between two neurons depends on the research question. Synapse sizes vary by a lot and are related to the physiological strength of a synapse ([Holler et al., 2021](https://www.nature.com/articles/s41586-020-03134-2)). Here, we first ignore the synapse size and only look at binary (connected yes/no) connectivity.\n",
    "\n",
    "</d>"
   ]
  },
  {
   "cell_type": "code",
   "execution_count": null,
   "id": "e4bc260d-e26d-4691-a326-eb2b840a9e32",
   "metadata": {},
   "outputs": [],
   "source": [
    "# get the ids of all proofread cells from the cell_df\n",
    "proof_root_ids = np.array(cell_df[cell_df[\"proofreading_strategy\"] != \"\"][\"pt_root_id\"])\n",
    "\n",
    "# filter for synapses between the proofread cells (pre and post)\n",
    "proof_proof_syn_table = filter_synapse_table(syn_df, pre_root_ids=proof_root_ids, post_root_ids=proof_root_ids)\n",
    "\n",
    "syn_mat = proof_proof_syn_table.pivot_table(index=\"pre_pt_root_id\", columns=\"post_pt_root_id\", \n",
    "                                            values=\"size\", aggfunc=lambda x: float(np.sum(x) > 0)).fillna(0)\n",
    "\n",
    "# Make sure matrix is quadratic\n",
    "syn_mat = syn_mat.reindex(columns=np.array(syn_mat.index))"
   ]
  },
  {
   "cell_type": "code",
   "execution_count": null,
   "id": "ca17e8dd-4354-4b64-bac0-a9b4b55bbaa2",
   "metadata": {},
   "outputs": [],
   "source": [
    "# Plot the connectivity matric between proofread cells\n",
    "fig, ax = plt.subplots(figsize=(7, 5), dpi=150)\n",
    "sns.heatmap(syn_mat, cmap=\"gray_r\", xticklabels=[], yticklabels=[], \n",
    "            ax=ax, square=True,\n",
    "            cbar_kws={\"label\": \"Connected - binary\"})"
   ]
  },
  {
   "cell_type": "markdown",
   "id": "a6b072e5-d547-4052-90b8-c437b2d7c0e4",
   "metadata": {},
   "source": [
    "<div style=\"background: #DFF0D8; border-radius: 3px; padding: 10px;\">\n",
    "<p><b>Task 2:</b> The matrix above only contains connections between proofread neurons. Because dendrites in of cells in the MICrONS dataset are generally well reconstructed we can analyze many more connections than just the ones between proofread neurons. Therefore, the connectivity matrix of analyzable connections forms a rectangular matrix. What is the size of the matrix between the proofread neurons and all neurons with a cell body in the dataset?\n",
    "    \n",
    "</div>"
   ]
  },
  {
   "cell_type": "code",
   "execution_count": null,
   "id": "8b089c74-a39c-4646-ae3e-9b5b33fd6938",
   "metadata": {},
   "outputs": [],
   "source": [
    "# Select synapses from proofread cells onto all cells\n",
    "proof_root_ids = np.array(cell_df[cell_df[\"proofreading_strategy\"] != \"\"][\"pt_root_id\"])\n",
    "nuc_root_ids = np.array(cell_df[\"pt_root_id\"])\n",
    "\n",
    "proof_proof_syn_table = filter_synapse_table(syn_df, pre_root_ids=proof_root_ids, post_root_ids=nuc_root_ids)\n",
    "\n",
    "rect_syn_mat = proof_proof_syn_table.pivot_table(index=\"pre_pt_root_id\", columns=\"post_pt_root_id\", \n",
    "                                            values=\"size\", aggfunc=lambda x: float(np.sum(x) > 0)).fillna(0)"
   ]
  },
  {
   "cell_type": "code",
   "execution_count": null,
   "id": "0e84807e-a9c8-44cb-a275-e39c02d0cb9c",
   "metadata": {},
   "outputs": [],
   "source": [
    "rect_syn_mat.shape"
   ]
  },
  {
   "cell_type": "markdown",
   "id": "ba8921a2-dc6a-492e-ab61-5f92db0163e7",
   "metadata": {},
   "source": [
    "<div style=\"border-left: 3px solid #000; padding: 1px; padding-left: 10px; background: #F0FAFF; \">\n",
    "\n",
    "How to take synapse size and number into account depends on the specific analysis. The sizes in the MICrONS dataset measure the synaptic cleft volume annotated by the automated classifier in voxels (3d pixels). These are correlated to anatomical measures such as synaptic area and spine head volumes (for excitatory synapses). Let's replot the square matrix with the average of synapses sizes between each connected pair.\n",
    "\n",
    "</d>"
   ]
  },
  {
   "cell_type": "code",
   "execution_count": null,
   "id": "74ee1684-f4c8-47a4-af67-0956785b0bd7",
   "metadata": {},
   "outputs": [],
   "source": [
    "proof_root_ids = np.array(cell_df[cell_df[\"proofreading_strategy\"] != \"\"][\"pt_root_id\"])\n",
    "proof_proof_syn_table = filter_synapse_table(syn_df, pre_root_ids=proof_root_ids, post_root_ids=proof_root_ids)\n",
    "\n",
    "# matrix of mean synapse size\n",
    "syn_mat = proof_proof_syn_table.pivot_table(index=\"pre_pt_root_id\", columns=\"post_pt_root_id\", \n",
    "                                            values=\"size\", aggfunc=lambda x: np.mean(x)).fillna(0)\n",
    "\n",
    "# Make sure matrix is quadratic\n",
    "syn_mat = syn_mat.reindex(columns=np.array(syn_mat.index))"
   ]
  },
  {
   "cell_type": "code",
   "execution_count": null,
   "id": "8e9cdef3-bfb8-4763-b102-747d2cb6cd2c",
   "metadata": {},
   "outputs": [],
   "source": [
    "fig, ax = plt.subplots(figsize=(7, 5), dpi=150)\n",
    "sns.heatmap(syn_mat, cmap=\"gray_r\", xticklabels=[], yticklabels=[], \n",
    "            ax=ax, square=True, vmin=0, vmax=1e4,\n",
    "            cbar_kws={\"label\": \"Mean synapse size (vx)\"})"
   ]
  },
  {
   "cell_type": "markdown",
   "id": "21aa297c-3337-45ca-9c72-c28b2176230e",
   "metadata": {},
   "source": [
    "<div style=\"border-left: 3px solid #000; padding: 1px; padding-left: 10px; background: #F0FAFF; \">\n",
    "\n",
    "Depending on the connection type, number of synapses might be the more important measure (see [Dorkenwald et al., 2022](https://elifesciences.org/articles/76120) for deeper dive into synapse size and counts). Next we plot the number of synapses per connection (we limit the colorbar to a maximum of 5 but the actual max number is much higher):\n",
    "\n",
    "\n",
    "</d>"
   ]
  },
  {
   "cell_type": "code",
   "execution_count": null,
   "id": "43518d61-e111-4109-b673-11584d8cec51",
   "metadata": {},
   "outputs": [],
   "source": [
    "proof_root_ids = np.array(cell_df[cell_df[\"proofreading_strategy\"] != \"\"][\"pt_root_id\"])\n",
    "proof_proof_syn_table = filter_synapse_table(syn_df, pre_root_ids=proof_root_ids, post_root_ids=proof_root_ids)\n",
    "\n",
    "# matrix of sum of synapse size\n",
    "syn_mat = proof_proof_syn_table.pivot_table(index=\"pre_pt_root_id\", columns=\"post_pt_root_id\", \n",
    "                                            values=\"size\", aggfunc=lambda x: np.sum(x > 0)).fillna(0)\n",
    "\n",
    "# Make sure matrix is quadratic\n",
    "syn_mat = syn_mat.reindex(columns=np.array(syn_mat.index))"
   ]
  },
  {
   "cell_type": "code",
   "execution_count": null,
   "id": "96d2ed3c-ca90-4159-8d76-9324c0ac00aa",
   "metadata": {},
   "outputs": [],
   "source": [
    "fig, ax = plt.subplots(figsize=(7, 5), dpi=150)\n",
    "sns.heatmap(syn_mat, cmap=\"gray_r\", xticklabels=[], yticklabels=[], \n",
    "            ax=ax, square=True, vmin=0, vmax=5,\n",
    "            cbar_kws={\"label\": \"Number of synapses\"})"
   ]
  },
  {
   "cell_type": "markdown",
   "id": "f617da7e-8d13-4658-8986-909c21756905",
   "metadata": {},
   "source": [
    "<div style=\"border-left: 3px solid #000; padding: 1px; padding-left: 10px; background: #F0FAFF; \">\n",
    "\n",
    "## Cell type tables\n",
    "\n",
    "Identifying the putative ‘cell type’ from the EM morphology is a process that involves both manual and automatic classifications. Subsets of the dataset have been manually classified by anatomists at the Allen Institute, and these ground truth labels used to train and refine different automated ‘feature classifiers’ over time. \n",
    "\n",
    "The diversity of manual and automated cell type classifications available in the dataset reflect the fact that definitions of ‘cell types’ in the dataset is an active area of research and must be contextualized against the purpose and resolution of the cell-typing being performed.\n",
    "\n",
    "<b> Manual Cell Types (V1 Column)</b>\n",
    "\n",
    "A subset of nucleus detections in a 100 um column (n=2204) in VISp were manually classified by anatomists at the Allen Institute into categories of cell subclasses, first distinguishing cells into classes of non-neuronal, excitatory and inhibitory. Excitatory cells were separated into laminar sub-classes (L23, L4), 3 sub-types of layer 5 cells (ET, IT, NP) and 2 classes of layer 6 cells (IT, CT). Inhibitory cells were classified into Bipolar (BPC), Basket (BC), Martinotti (MC), or Unsure (Unsure). Those neuronal calls are available from the CAVEclient under the table name `allen_v1_column_types_slanted_ref` which references the nucleus id of the cell, and the column `cell_type_manual` in the prepared data for this workshop. \n",
    "\n",
    "Non-neuronal manual cells type calls enumerate astrocytes, microglia, pericytes, oligodendrocytes (oligo), and oligodendrocyte precursor cells (OPC), and area available in the table `aibs_column_nonneuronal_ref`.\n",
    "\n",
    "<b>Automated Cell Type classification (Soma-nucleus model)</b>\n",
    "\n",
    "Models were trained based upon the manual Column Neuron labels, as described in <a href=https://www.biorxiv.org/content/10.1101/2022.07.20.499976v1>Elabbady et al. BioRxiv 2023.</a> Each nucleus was analyzed for a variety of features, and a model trained on and independent dataset to distinguish neurons from non-neuronal detections. Non-neuron detections include both glial cells and false positive detections. The nucleus segmentation detected 171,818 connected components of nucleus objects, this model detected 82K neurons. Evaluation of this model on 1,316 cells in the volume shows the model has a recall of 99.6% for neurons, and a precision of 96.9%. All nucleus detections and the results of this model can be queried and linked to the cellular segmentation using the CAVEclient with the table name nucleus_neuron_svm. \n",
    "\n",
    "Combining those features with the nucleus features we trained a hierachical model on the manual labels to predict cell-classes and sub-classes across a large number of neurons. This is available as CAVE table `aibs_metamodel_celltypes_v661`, and the column `cell_type_auto` in the prepared data for this workshop.\n",
    "    \n",
    "</d>"
   ]
  },
  {
   "cell_type": "code",
   "execution_count": null,
   "id": "bc959f20-1aab-467e-a73e-e44fd4fbc4b9",
   "metadata": {},
   "outputs": [],
   "source": [
    "# Plot cell volume by depth\n",
    "fig, ax = plt.subplots(figsize=(6, 6), dpi=150)\n",
    "ax.tick_params(labelsize=14)\n",
    "sns.scatterplot(data=cell_df, x=\"volume\", y=\"pt_position_y\", size=1, edgecolor=None, alpha=.01, color=\"k\", ax=ax, legend=False)\n",
    "ax.invert_yaxis()\n",
    "ax.set_xlabel(\"Volume ($\\mu m^3$)\", fontsize=16)\n",
    "ax.set_ylabel(\"Depth ($\\mu m$)\", fontsize=16)\n",
    "ax.set_xlim(0, 500)\n",
    "plt.show()"
   ]
  },
  {
   "cell_type": "markdown",
   "id": "046f8847-5153-4a62-9cd2-b4792a24e633",
   "metadata": {},
   "source": [
    "<div style=\"background: #DFF0D8; border-radius: 3px; padding: 10px;\">\n",
    "\n",
    "<p><b>Task 3:</b> The differences in volume are not only indicative of cortical layers, they also relate to cell types. Use the automated cell type columns (`coarse_cell_type_auto` and `cell_type_auto`) to color the scatter plot. The `hue` parameter allows you to do that in the seaborn scatter plot.\n",
    "    \n",
    "</div>"
   ]
  },
  {
   "cell_type": "code",
   "execution_count": null,
   "id": "77b4cbc0-4e80-48f7-8668-aff00027c36c",
   "metadata": {},
   "outputs": [],
   "source": [
    "fig, ax = plt.subplots(figsize=(6, 6), dpi=150)\n",
    "ax.tick_params(labelsize=14)\n",
    "sns.scatterplot(data=cell_df, x=\"volume\", y=\"pt_position_y\", size=1, edgecolor=None, alpha=.1, color=\"k\", ax=ax, \n",
    "                legend=True, hue=\"coarse_cell_type_auto\")\n",
    "ax.invert_yaxis()\n",
    "ax.set_xlabel(\"Volume ($\\mu m^3$)\", fontsize=16)\n",
    "ax.set_ylabel(\"Depth ($\\mu m$)\", fontsize=16)\n",
    "ax.set_xlim(0, 500)\n",
    "plt.show()"
   ]
  },
  {
   "cell_type": "code",
   "execution_count": null,
   "id": "b411ccb4-72b2-4726-b4e7-1f0984b5f379",
   "metadata": {},
   "outputs": [],
   "source": [
    "fig, ax = plt.subplots(figsize=(6, 6), dpi=150)\n",
    "ax.tick_params(labelsize=14)\n",
    "sns.scatterplot(data=cell_df, x=\"volume\", y=\"pt_position_y\", size=1, edgecolor=None, alpha=.1, color=\"k\", ax=ax, \n",
    "                legend=True, hue=\"cell_type_auto\")\n",
    "ax.invert_yaxis()\n",
    "ax.set_xlabel(\"Volume ($\\mu m^3$)\", fontsize=16)\n",
    "ax.set_ylabel(\"Depth ($\\mu m$)\", fontsize=16)\n",
    "ax.set_xlim(0, 500)\n",
    "plt.show()"
   ]
  },
  {
   "cell_type": "markdown",
   "id": "a6bc3313-c865-4630-9eac-97cfa641b078",
   "metadata": {},
   "source": [
    "<div style=\"border-left: 3px solid #000; padding: 1px; padding-left: 10px; background: #F0FAFF; \">\n",
    "\n",
    "## Sorting the synapse matrix with cell types\n",
    "    \n",
    "Let's combine the synaptic connecitivity with the cell type information. Below we provide logic for sorting a connectivity matrix using a list of labels.    \n",
    "    \n",
    "</d>"
   ]
  },
  {
   "cell_type": "code",
   "execution_count": null,
   "id": "cf35008e-ab13-45d1-8cde-1af694e11815",
   "metadata": {},
   "outputs": [],
   "source": [
    "def sort_matrix_by_types(mat: pd.DataFrame, \n",
    "                         labels: pd.DataFrame, \n",
    "                         label_type_col: str = \"cell_type_auto\", \n",
    "                         label_id_col: str = \"pt_root_id\", \n",
    "                         post_labels: pd.DataFrame = None, \n",
    "                         post_label_type_col: str = None, \n",
    "                         post_label_id_col: str = None):\n",
    "    \"\"\"Sorts (synapse) matrix by labels.\n",
    "\n",
    "    This function assumes a square synapse matrix!\n",
    "\n",
    "    Args:\n",
    "        mat: synapse matrix as pandas DataFrame\n",
    "        labels: DataFrame with labels, e.g. the output of client.materialize.query_table('aibs_metamodel_celltypes_v661')\n",
    "        label_type_col: column name in labels for cell types\n",
    "        label_id_col: column name in labels for root ids\n",
    "        post_labels: DataFrame with labels, e.g. the output of client.materialize.query_table('aibs_metamodel_celltypes_v661')\n",
    "        post_label_type_col: column name in labels for cell types\n",
    "        post_label_id_col: column name in labels for root ids\n",
    "\n",
    "    Returns:\n",
    "        mat_sorted: sorted matrix\n",
    "        mat_labels: sorted labels; has the same length as matrix\n",
    "    \"\"\"\n",
    "    \n",
    "    if post_labels is None:\n",
    "        post_labels = labels\n",
    "    if post_label_type_col is None:\n",
    "        post_label_type_col = label_type_col\n",
    "    if post_label_id_col is None:\n",
    "        post_label_id_col = label_id_col\n",
    "        \n",
    "    mat_sorted = mat.copy()\n",
    "    \n",
    "    pre_mat_labels = np.array(labels.set_index(label_id_col).loc[mat_sorted.index][label_type_col])\n",
    "    pre_sorting = np.argsort(pre_mat_labels)\n",
    "\n",
    "    post_mat_labels = np.array(post_labels.set_index(post_label_id_col).loc[mat_sorted.T.index][post_label_type_col])\n",
    "    post_sorting = np.argsort(post_mat_labels)\n",
    "\n",
    "    mat_sorted = mat_sorted.iloc[pre_sorting].T.iloc[post_sorting].T\n",
    "\n",
    "    return mat_sorted, pre_mat_labels[pre_sorting], post_mat_labels[post_sorting]"
   ]
  },
  {
   "cell_type": "code",
   "execution_count": null,
   "id": "500c041b-f7cf-4c6a-b014-5e75edbd6315",
   "metadata": {},
   "outputs": [],
   "source": [
    "# Select the proofread excitatory cells\n",
    "proof_E_root_ids = np.array(cell_df[np.array(cell_df[\"proofreading_strategy\"] != \"\") & np.array(cell_df[\"coarse_cell_type_auto\"] == \"E\")][\"pt_root_id\"])\n",
    "proof_proof_syn_table = filter_synapse_table(syn_df, pre_root_ids=proof_E_root_ids, post_root_ids=proof_E_root_ids)\n",
    "\n",
    "syn_mat = proof_proof_syn_table.pivot_table(index=\"pre_pt_root_id\", columns=\"post_pt_root_id\", \n",
    "                                            values=\"size\", aggfunc=lambda x: float(np.sum(x) > 0)).fillna(0)\n",
    "\n",
    "syn_mat = syn_mat.reindex(columns=np.array(syn_mat.index))\n",
    "\n",
    "# sort the matrix by cell types to render sensibly in heatmap\n",
    "syn_mat_ct, syn_mat_cell_types, _ = sort_matrix_by_types(syn_mat, cell_df, label_type_col=\"cell_type_auto\")"
   ]
  },
  {
   "cell_type": "code",
   "execution_count": null,
   "id": "13b5e56a-185a-4ae3-b2dd-de1ac88188fa",
   "metadata": {},
   "outputs": [],
   "source": [
    "# add colormap for cell type\n",
    "cts, ct_idx = np.unique(syn_mat_cell_types, return_inverse=True)\n",
    "ct_colors = plt.get_cmap(\"tab10\")(ct_idx)\n",
    "\n",
    "fig, ax = plt.subplots(figsize=(7, 5), dpi=150)\n",
    "sns.heatmap(syn_mat_ct, cmap=\"gray_r\", xticklabels=[], yticklabels=[], \n",
    "            ax=ax, square=True,\n",
    "            cbar_kws={\"label\": \"Connected - binary\"})\n",
    "\n",
    "\n",
    "# Adding row and column colors for cell types\n",
    "for i, color in enumerate(ct_colors):\n",
    "    ax.add_patch(plt.Rectangle(xy=(-0.01, i), width=0.01, height=1, color=color, lw=0,\n",
    "                               transform=ax.get_yaxis_transform(), clip_on=False))\n",
    "\n",
    "for i, color in enumerate(ct_colors):\n",
    "    ax.add_patch(plt.Rectangle(xy=(i, 1), height=0.01, width=1, color=color, lw=0,\n",
    "                               transform=ax.get_xaxis_transform(), clip_on=False))\n",
    "\n",
    "# add a legend for the cell types\n",
    "legend_elements = [matplotlib.lines.Line2D([0], [0], color=plt.get_cmap(\"tab10\")(i), label=ct) for i, ct in enumerate(cts)]\n",
    "plt.legend(handles=legend_elements, loc='upper left', bbox_to_anchor=(1.3, 1), title=\"cell types\")\n",
    "plt.show()"
   ]
  }
 ],
 "metadata": {
  "kernelspec": {
   "display_name": "microns2025",
   "language": "python",
   "name": "microns2025"
  },
  "language_info": {
   "codemirror_mode": {
    "name": "ipython",
    "version": 3
   },
   "file_extension": ".py",
   "mimetype": "text/x-python",
   "name": "python",
   "nbconvert_exporter": "python",
   "pygments_lexer": "ipython3",
   "version": "3.11.11"
  }
 },
 "nbformat": 4,
 "nbformat_minor": 5
}
