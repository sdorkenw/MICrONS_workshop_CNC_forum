{
 "cells": [
  {
   "cell_type": "markdown",
   "id": "8534d655-f4de-4f70-af47-531a655051fd",
   "metadata": {},
   "source": [
    "<div style=\"background: #DFF0D8; border-radius: 3px; padding: 10px;\">\n",
    "\n",
    "## Exercise 2: Inhibitory connectivity (WIP)\n",
    "    \n",
    "    \n",
    "In the data walkthrough, we visualized the connectivity of excitatory neurons with each other. Here, we will extend this analysis to include inhibitory neurons. \n",
    "\n",
    "!add preview image\n",
    "    \n",
    "</div>"
   ]
  },
  {
   "cell_type": "code",
   "execution_count": 1,
   "id": "95cb908f-22c5-4c02-adb2-0785493251dc",
   "metadata": {},
   "outputs": [],
   "source": [
    "# Paths to compiled data for this workshop\n",
    "syn_data_url = \"https://github.com/sdorkenw/MICrONS_workshop_CNC_forum/raw/refs/heads/main/data/synapses_proofread_V1_neurons_1293.feather\"\n",
    "cell_data_url = \"https://github.com/sdorkenw/MICrONS_workshop_CNC_forum/raw/refs/heads/main/data/cell_info_1293.feather\" "
   ]
  },
  {
   "cell_type": "markdown",
   "id": "5eff76ba-8566-4ff1-9b60-6793b9605214",
   "metadata": {},
   "source": [
    "<div style=\"border-left: 3px solid #000; padding: 1px; padding-left: 10px; background: #F0FAFF; \">\n",
    "   \n",
    "<b> The CAVEclient</b> is a python library that facilitates communication with a CAVE system. For convenience, we also use the package <b>skeleton_plot</b> which handles rendering the precomputed skeletons. Both packages can be installed with pip.\n",
    "    \n",
    "</div>"
   ]
  },
  {
   "cell_type": "code",
   "execution_count": 2,
   "id": "c94c9b26-837f-49d2-9958-753db3493646",
   "metadata": {},
   "outputs": [],
   "source": [
    "# !pip install skeleton_plot\n",
    "# !pip install caveclient "
   ]
  },
  {
   "cell_type": "code",
   "execution_count": 2,
   "id": "1d67654e-c062-44ab-a62e-6b723288d3c3",
   "metadata": {},
   "outputs": [],
   "source": [
    "import caveclient\n",
    "import skeleton_plot as skelplot\n",
    "\n",
    "import pandas as pd\n",
    "import numpy as np\n",
    "from matplotlib import pyplot as plt\n",
    "import seaborn as sns"
   ]
  }
 ],
 "metadata": {
  "kernelspec": {
   "display_name": "microns2025",
   "language": "python",
   "name": "microns2025"
  },
  "language_info": {
   "codemirror_mode": {
    "name": "ipython",
    "version": 3
   },
   "file_extension": ".py",
   "mimetype": "text/x-python",
   "name": "python",
   "nbconvert_exporter": "python",
   "pygments_lexer": "ipython3",
   "version": "3.11.11"
  }
 },
 "nbformat": 4,
 "nbformat_minor": 5
}
